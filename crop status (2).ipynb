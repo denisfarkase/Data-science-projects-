{
 "cells": [
  {
   "cell_type": "markdown",
   "metadata": {},
   "source": [
    "## Crop Status\n",
    "There are only a few techies who are working on projects related to Agriculture. It is very important for us to contribute equally to different sectors when it is required all over the world. Though the old techniques of agriculture cannot be ignored, we need to think of adding innovative technology on top of them.\n",
    "\n",
    "### Goal: \n",
    "Given the dataset related to agriculture, you should be able to build a model that will classify the status of the existing crop by considering a set of parameters.\n",
    "\n",
    "### Data Description: \n",
    "Data is recorded by considering parameters related to crop when it is treated with toxicants(pesticides).\n",
    "\n",
    "### Attribute Information:\n",
    "\n",
    "1.  ID - Unique number represents each record\n",
    "2.  Insects - Average number of insects that (may) affect the crop.\n",
    "3.  Crop - Type of crop [Food crop and Feed crop]\n",
    "4.  Soil - Type of soil [Clay and silt]\n",
    "5.  Category_of_Toxicant - Values 1, 2, 3 represent three different toxicants available in the market.\n",
    "6.  Does_count - Represents the dosage count of toxicants.\n",
    "7.  Number_of_Weeks_Used - Represents the number of weeks for which the crop remained toxicant.\n",
    "8.  Number_Weeks_does_not used - Represents the number of weeks that the toxicants are used on the crop.\n",
    "9.  Season - Represents the various seasons (Monsoon, etc.,)\n",
    "10. Crop_status - 0 represents ‘Crop can be used further’, 1 represents ‘crop is damaged due to nature’, 2 represents ‘toxicants\n",
    "are responsible for crop’s damage’.\n",
    "\n",
    "### Provided Files:\n",
    "\n",
    "#### training_data: \n",
    "This file consists of all the features. It should be used for both training and model validation purposes. [80,000 records]\n",
    "#### test_data: \n",
    "Test file consists of all attributes except the target variable and prediction is to be made for all the rows in the test file. [35,000 records]\n",
    "\n",
    "### Objective Of The Problem: \n",
    "The objective of the problem is to predict the status of the crop which will be helpful for agriculture experts.\n",
    "\n",
    "### Evaluation Criteria: \n",
    "The metric of evaluation for the problem is Accuracy score."
   ]
  },
  {
   "cell_type": "code",
   "execution_count": 272,
   "metadata": {},
   "outputs": [],
   "source": [
    "import pandas as pd\n",
    "import sklearn\n",
    "import matplotlib.pyplot as plt\n",
    "import numpy as np\n",
    "import seaborn as sns"
   ]
  },
  {
   "cell_type": "code",
   "execution_count": 273,
   "metadata": {},
   "outputs": [],
   "source": [
    "data= pd.read_excel(r\"D:\\skillenza denis\\Stage2\\train.xlsx\")"
   ]
  },
  {
   "cell_type": "code",
   "execution_count": 274,
   "metadata": {},
   "outputs": [
    {
     "data": {
      "text/html": [
       "<div>\n",
       "<style scoped>\n",
       "    .dataframe tbody tr th:only-of-type {\n",
       "        vertical-align: middle;\n",
       "    }\n",
       "\n",
       "    .dataframe tbody tr th {\n",
       "        vertical-align: top;\n",
       "    }\n",
       "\n",
       "    .dataframe thead th {\n",
       "        text-align: right;\n",
       "    }\n",
       "</style>\n",
       "<table border=\"1\" class=\"dataframe\">\n",
       "  <thead>\n",
       "    <tr style=\"text-align: right;\">\n",
       "      <th></th>\n",
       "      <th>ID</th>\n",
       "      <th>Insects</th>\n",
       "      <th>Crop</th>\n",
       "      <th>Soil</th>\n",
       "      <th>Category_of_Toxicant</th>\n",
       "      <th>Does_count</th>\n",
       "      <th>Number_of_Weeks_Used</th>\n",
       "      <th>Number_Weeks_does_not used</th>\n",
       "      <th>Season</th>\n",
       "      <th>Crop_status</th>\n",
       "    </tr>\n",
       "  </thead>\n",
       "  <tbody>\n",
       "    <tr>\n",
       "      <th>0</th>\n",
       "      <td>1</td>\n",
       "      <td>188</td>\n",
       "      <td>Feed</td>\n",
       "      <td>clay</td>\n",
       "      <td>1</td>\n",
       "      <td>0</td>\n",
       "      <td>0.0</td>\n",
       "      <td>0</td>\n",
       "      <td>1</td>\n",
       "      <td>0</td>\n",
       "    </tr>\n",
       "    <tr>\n",
       "      <th>1</th>\n",
       "      <td>2</td>\n",
       "      <td>209</td>\n",
       "      <td>Feed</td>\n",
       "      <td>clay</td>\n",
       "      <td>1</td>\n",
       "      <td>0</td>\n",
       "      <td>0.0</td>\n",
       "      <td>0</td>\n",
       "      <td>2</td>\n",
       "      <td>1</td>\n",
       "    </tr>\n",
       "    <tr>\n",
       "      <th>2</th>\n",
       "      <td>3</td>\n",
       "      <td>257</td>\n",
       "      <td>Feed</td>\n",
       "      <td>clay</td>\n",
       "      <td>1</td>\n",
       "      <td>0</td>\n",
       "      <td>0.0</td>\n",
       "      <td>0</td>\n",
       "      <td>2</td>\n",
       "      <td>1</td>\n",
       "    </tr>\n",
       "    <tr>\n",
       "      <th>3</th>\n",
       "      <td>4</td>\n",
       "      <td>257</td>\n",
       "      <td>Feed</td>\n",
       "      <td>silt</td>\n",
       "      <td>1</td>\n",
       "      <td>0</td>\n",
       "      <td>0.0</td>\n",
       "      <td>0</td>\n",
       "      <td>2</td>\n",
       "      <td>1</td>\n",
       "    </tr>\n",
       "    <tr>\n",
       "      <th>4</th>\n",
       "      <td>5</td>\n",
       "      <td>342</td>\n",
       "      <td>Feed</td>\n",
       "      <td>clay</td>\n",
       "      <td>1</td>\n",
       "      <td>0</td>\n",
       "      <td>0.0</td>\n",
       "      <td>0</td>\n",
       "      <td>2</td>\n",
       "      <td>1</td>\n",
       "    </tr>\n",
       "  </tbody>\n",
       "</table>\n",
       "</div>"
      ],
      "text/plain": [
       "   ID  Insects  Crop  Soil  Category_of_Toxicant  Does_count  \\\n",
       "0   1      188  Feed  clay                     1           0   \n",
       "1   2      209  Feed  clay                     1           0   \n",
       "2   3      257  Feed  clay                     1           0   \n",
       "3   4      257  Feed  silt                     1           0   \n",
       "4   5      342  Feed  clay                     1           0   \n",
       "\n",
       "   Number_of_Weeks_Used  Number_Weeks_does_not used  Season  Crop_status  \n",
       "0                   0.0                           0       1            0  \n",
       "1                   0.0                           0       2            1  \n",
       "2                   0.0                           0       2            1  \n",
       "3                   0.0                           0       2            1  \n",
       "4                   0.0                           0       2            1  "
      ]
     },
     "execution_count": 274,
     "metadata": {},
     "output_type": "execute_result"
    }
   ],
   "source": [
    "data.head()"
   ]
  },
  {
   "cell_type": "code",
   "execution_count": 275,
   "metadata": {},
   "outputs": [
    {
     "data": {
      "text/plain": [
       "(80000, 10)"
      ]
     },
     "execution_count": 275,
     "metadata": {},
     "output_type": "execute_result"
    }
   ],
   "source": [
    "data.shape"
   ]
  },
  {
   "cell_type": "code",
   "execution_count": 276,
   "metadata": {},
   "outputs": [
    {
     "data": {
      "text/plain": [
       "Food    57333\n",
       "Feed    22667\n",
       "Name: Crop, dtype: int64"
      ]
     },
     "execution_count": 276,
     "metadata": {},
     "output_type": "execute_result"
    }
   ],
   "source": [
    "data[\"Crop\"].value_counts()"
   ]
  },
  {
   "cell_type": "code",
   "execution_count": 277,
   "metadata": {},
   "outputs": [
    {
     "data": {
      "text/plain": [
       "clay    43556\n",
       "silt    36444\n",
       "Name: Soil, dtype: int64"
      ]
     },
     "execution_count": 277,
     "metadata": {},
     "output_type": "execute_result"
    }
   ],
   "source": [
    "data[\"Soil\"].value_counts()"
   ]
  },
  {
   "cell_type": "code",
   "execution_count": 278,
   "metadata": {},
   "outputs": [
    {
     "data": {
      "text/plain": [
       "0    66716\n",
       "1    11183\n",
       "2     2101\n",
       "Name: Crop_status, dtype: int64"
      ]
     },
     "execution_count": 278,
     "metadata": {},
     "output_type": "execute_result"
    }
   ],
   "source": [
    "data[\"Crop_status\"].value_counts()"
   ]
  },
  {
   "cell_type": "markdown",
   "metadata": {},
   "source": [
    "# Checking Null values"
   ]
  },
  {
   "cell_type": "code",
   "execution_count": 279,
   "metadata": {},
   "outputs": [
    {
     "data": {
      "text/plain": [
       "ID                               0\n",
       "Insects                          0\n",
       "Crop                             0\n",
       "Soil                             0\n",
       "Category_of_Toxicant             0\n",
       "Does_count                       0\n",
       "Number_of_Weeks_Used          8055\n",
       "Number_Weeks_does_not used       0\n",
       "Season                           0\n",
       "Crop_status                      0\n",
       "dtype: int64"
      ]
     },
     "execution_count": 279,
     "metadata": {},
     "output_type": "execute_result"
    }
   ],
   "source": [
    "data.isnull().sum()"
   ]
  },
  {
   "cell_type": "code",
   "execution_count": 280,
   "metadata": {},
   "outputs": [],
   "source": [
    "data_tr = data.drop([\"ID\" , \"Season\"] , axis = 1)"
   ]
  },
  {
   "cell_type": "code",
   "execution_count": 281,
   "metadata": {},
   "outputs": [
    {
     "data": {
      "text/html": [
       "<div>\n",
       "<style scoped>\n",
       "    .dataframe tbody tr th:only-of-type {\n",
       "        vertical-align: middle;\n",
       "    }\n",
       "\n",
       "    .dataframe tbody tr th {\n",
       "        vertical-align: top;\n",
       "    }\n",
       "\n",
       "    .dataframe thead th {\n",
       "        text-align: right;\n",
       "    }\n",
       "</style>\n",
       "<table border=\"1\" class=\"dataframe\">\n",
       "  <thead>\n",
       "    <tr style=\"text-align: right;\">\n",
       "      <th></th>\n",
       "      <th>Insects</th>\n",
       "      <th>Crop</th>\n",
       "      <th>Soil</th>\n",
       "      <th>Category_of_Toxicant</th>\n",
       "      <th>Does_count</th>\n",
       "      <th>Number_of_Weeks_Used</th>\n",
       "      <th>Number_Weeks_does_not used</th>\n",
       "      <th>Crop_status</th>\n",
       "    </tr>\n",
       "  </thead>\n",
       "  <tbody>\n",
       "    <tr>\n",
       "      <th>0</th>\n",
       "      <td>188</td>\n",
       "      <td>Feed</td>\n",
       "      <td>clay</td>\n",
       "      <td>1</td>\n",
       "      <td>0</td>\n",
       "      <td>0.0</td>\n",
       "      <td>0</td>\n",
       "      <td>0</td>\n",
       "    </tr>\n",
       "    <tr>\n",
       "      <th>1</th>\n",
       "      <td>209</td>\n",
       "      <td>Feed</td>\n",
       "      <td>clay</td>\n",
       "      <td>1</td>\n",
       "      <td>0</td>\n",
       "      <td>0.0</td>\n",
       "      <td>0</td>\n",
       "      <td>1</td>\n",
       "    </tr>\n",
       "    <tr>\n",
       "      <th>2</th>\n",
       "      <td>257</td>\n",
       "      <td>Feed</td>\n",
       "      <td>clay</td>\n",
       "      <td>1</td>\n",
       "      <td>0</td>\n",
       "      <td>0.0</td>\n",
       "      <td>0</td>\n",
       "      <td>1</td>\n",
       "    </tr>\n",
       "    <tr>\n",
       "      <th>3</th>\n",
       "      <td>257</td>\n",
       "      <td>Feed</td>\n",
       "      <td>silt</td>\n",
       "      <td>1</td>\n",
       "      <td>0</td>\n",
       "      <td>0.0</td>\n",
       "      <td>0</td>\n",
       "      <td>1</td>\n",
       "    </tr>\n",
       "    <tr>\n",
       "      <th>4</th>\n",
       "      <td>342</td>\n",
       "      <td>Feed</td>\n",
       "      <td>clay</td>\n",
       "      <td>1</td>\n",
       "      <td>0</td>\n",
       "      <td>0.0</td>\n",
       "      <td>0</td>\n",
       "      <td>1</td>\n",
       "    </tr>\n",
       "  </tbody>\n",
       "</table>\n",
       "</div>"
      ],
      "text/plain": [
       "   Insects  Crop  Soil  Category_of_Toxicant  Does_count  \\\n",
       "0      188  Feed  clay                     1           0   \n",
       "1      209  Feed  clay                     1           0   \n",
       "2      257  Feed  clay                     1           0   \n",
       "3      257  Feed  silt                     1           0   \n",
       "4      342  Feed  clay                     1           0   \n",
       "\n",
       "   Number_of_Weeks_Used  Number_Weeks_does_not used  Crop_status  \n",
       "0                   0.0                           0            0  \n",
       "1                   0.0                           0            1  \n",
       "2                   0.0                           0            1  \n",
       "3                   0.0                           0            1  \n",
       "4                   0.0                           0            1  "
      ]
     },
     "execution_count": 281,
     "metadata": {},
     "output_type": "execute_result"
    }
   ],
   "source": [
    "data_tr.head()"
   ]
  },
  {
   "cell_type": "code",
   "execution_count": 282,
   "metadata": {},
   "outputs": [
    {
     "data": {
      "text/plain": [
       "20.0    3489\n",
       "30.0    3400\n",
       "25.0    2792\n",
       "40.0    2444\n",
       "15.0    2243\n",
       "        ... \n",
       "63.0      46\n",
       "64.0      40\n",
       "65.0      31\n",
       "66.0      17\n",
       "67.0       7\n",
       "Name: Number_of_Weeks_Used, Length: 64, dtype: int64"
      ]
     },
     "execution_count": 282,
     "metadata": {},
     "output_type": "execute_result"
    }
   ],
   "source": [
    "data_tr.Number_of_Weeks_Used.value_counts()"
   ]
  },
  {
   "cell_type": "code",
   "execution_count": 283,
   "metadata": {},
   "outputs": [],
   "source": [
    "data_tr.Number_of_Weeks_Used = data_tr.Number_of_Weeks_Used.fillna(data_tr.Number_of_Weeks_Used.mean())"
   ]
  },
  {
   "cell_type": "code",
   "execution_count": 284,
   "metadata": {},
   "outputs": [
    {
     "data": {
      "text/plain": [
       "Insects                       0\n",
       "Crop                          0\n",
       "Soil                          0\n",
       "Category_of_Toxicant          0\n",
       "Does_count                    0\n",
       "Number_of_Weeks_Used          0\n",
       "Number_Weeks_does_not used    0\n",
       "Crop_status                   0\n",
       "dtype: int64"
      ]
     },
     "execution_count": 284,
     "metadata": {},
     "output_type": "execute_result"
    }
   ],
   "source": [
    "data_tr.isnull().sum()"
   ]
  },
  {
   "cell_type": "code",
   "execution_count": 285,
   "metadata": {},
   "outputs": [],
   "source": [
    "from sklearn.preprocessing import LabelEncoder\n",
    "le=LabelEncoder()"
   ]
  },
  {
   "cell_type": "code",
   "execution_count": 286,
   "metadata": {},
   "outputs": [],
   "source": [
    "data_tr[data_tr.select_dtypes(include=[\"object\"]).columns] = data_tr[data_tr.select_dtypes(include=[\"object\"]).columns].apply(le.fit_transform)"
   ]
  },
  {
   "cell_type": "code",
   "execution_count": 287,
   "metadata": {},
   "outputs": [
    {
     "data": {
      "text/html": [
       "<div>\n",
       "<style scoped>\n",
       "    .dataframe tbody tr th:only-of-type {\n",
       "        vertical-align: middle;\n",
       "    }\n",
       "\n",
       "    .dataframe tbody tr th {\n",
       "        vertical-align: top;\n",
       "    }\n",
       "\n",
       "    .dataframe thead th {\n",
       "        text-align: right;\n",
       "    }\n",
       "</style>\n",
       "<table border=\"1\" class=\"dataframe\">\n",
       "  <thead>\n",
       "    <tr style=\"text-align: right;\">\n",
       "      <th></th>\n",
       "      <th>Insects</th>\n",
       "      <th>Crop</th>\n",
       "      <th>Soil</th>\n",
       "      <th>Category_of_Toxicant</th>\n",
       "      <th>Does_count</th>\n",
       "      <th>Number_of_Weeks_Used</th>\n",
       "      <th>Number_Weeks_does_not used</th>\n",
       "      <th>Crop_status</th>\n",
       "    </tr>\n",
       "  </thead>\n",
       "  <tbody>\n",
       "    <tr>\n",
       "      <th>0</th>\n",
       "      <td>188</td>\n",
       "      <td>0</td>\n",
       "      <td>0</td>\n",
       "      <td>1</td>\n",
       "      <td>0</td>\n",
       "      <td>0.0</td>\n",
       "      <td>0</td>\n",
       "      <td>0</td>\n",
       "    </tr>\n",
       "    <tr>\n",
       "      <th>1</th>\n",
       "      <td>209</td>\n",
       "      <td>0</td>\n",
       "      <td>0</td>\n",
       "      <td>1</td>\n",
       "      <td>0</td>\n",
       "      <td>0.0</td>\n",
       "      <td>0</td>\n",
       "      <td>1</td>\n",
       "    </tr>\n",
       "    <tr>\n",
       "      <th>2</th>\n",
       "      <td>257</td>\n",
       "      <td>0</td>\n",
       "      <td>0</td>\n",
       "      <td>1</td>\n",
       "      <td>0</td>\n",
       "      <td>0.0</td>\n",
       "      <td>0</td>\n",
       "      <td>1</td>\n",
       "    </tr>\n",
       "    <tr>\n",
       "      <th>3</th>\n",
       "      <td>257</td>\n",
       "      <td>0</td>\n",
       "      <td>1</td>\n",
       "      <td>1</td>\n",
       "      <td>0</td>\n",
       "      <td>0.0</td>\n",
       "      <td>0</td>\n",
       "      <td>1</td>\n",
       "    </tr>\n",
       "    <tr>\n",
       "      <th>4</th>\n",
       "      <td>342</td>\n",
       "      <td>0</td>\n",
       "      <td>0</td>\n",
       "      <td>1</td>\n",
       "      <td>0</td>\n",
       "      <td>0.0</td>\n",
       "      <td>0</td>\n",
       "      <td>1</td>\n",
       "    </tr>\n",
       "    <tr>\n",
       "      <th>...</th>\n",
       "      <td>...</td>\n",
       "      <td>...</td>\n",
       "      <td>...</td>\n",
       "      <td>...</td>\n",
       "      <td>...</td>\n",
       "      <td>...</td>\n",
       "      <td>...</td>\n",
       "      <td>...</td>\n",
       "    </tr>\n",
       "    <tr>\n",
       "      <th>79995</th>\n",
       "      <td>209</td>\n",
       "      <td>1</td>\n",
       "      <td>1</td>\n",
       "      <td>2</td>\n",
       "      <td>20</td>\n",
       "      <td>12.0</td>\n",
       "      <td>6</td>\n",
       "      <td>0</td>\n",
       "    </tr>\n",
       "    <tr>\n",
       "      <th>79996</th>\n",
       "      <td>232</td>\n",
       "      <td>1</td>\n",
       "      <td>1</td>\n",
       "      <td>2</td>\n",
       "      <td>20</td>\n",
       "      <td>12.0</td>\n",
       "      <td>9</td>\n",
       "      <td>0</td>\n",
       "    </tr>\n",
       "    <tr>\n",
       "      <th>79997</th>\n",
       "      <td>256</td>\n",
       "      <td>1</td>\n",
       "      <td>1</td>\n",
       "      <td>2</td>\n",
       "      <td>10</td>\n",
       "      <td>14.0</td>\n",
       "      <td>10</td>\n",
       "      <td>0</td>\n",
       "    </tr>\n",
       "    <tr>\n",
       "      <th>79998</th>\n",
       "      <td>256</td>\n",
       "      <td>1</td>\n",
       "      <td>1</td>\n",
       "      <td>2</td>\n",
       "      <td>10</td>\n",
       "      <td>16.0</td>\n",
       "      <td>8</td>\n",
       "      <td>0</td>\n",
       "    </tr>\n",
       "    <tr>\n",
       "      <th>79999</th>\n",
       "      <td>256</td>\n",
       "      <td>1</td>\n",
       "      <td>1</td>\n",
       "      <td>2</td>\n",
       "      <td>20</td>\n",
       "      <td>11.0</td>\n",
       "      <td>10</td>\n",
       "      <td>0</td>\n",
       "    </tr>\n",
       "  </tbody>\n",
       "</table>\n",
       "<p>80000 rows × 8 columns</p>\n",
       "</div>"
      ],
      "text/plain": [
       "       Insects  Crop  Soil  Category_of_Toxicant  Does_count  \\\n",
       "0          188     0     0                     1           0   \n",
       "1          209     0     0                     1           0   \n",
       "2          257     0     0                     1           0   \n",
       "3          257     0     1                     1           0   \n",
       "4          342     0     0                     1           0   \n",
       "...        ...   ...   ...                   ...         ...   \n",
       "79995      209     1     1                     2          20   \n",
       "79996      232     1     1                     2          20   \n",
       "79997      256     1     1                     2          10   \n",
       "79998      256     1     1                     2          10   \n",
       "79999      256     1     1                     2          20   \n",
       "\n",
       "       Number_of_Weeks_Used  Number_Weeks_does_not used  Crop_status  \n",
       "0                       0.0                           0            0  \n",
       "1                       0.0                           0            1  \n",
       "2                       0.0                           0            1  \n",
       "3                       0.0                           0            1  \n",
       "4                       0.0                           0            1  \n",
       "...                     ...                         ...          ...  \n",
       "79995                  12.0                           6            0  \n",
       "79996                  12.0                           9            0  \n",
       "79997                  14.0                          10            0  \n",
       "79998                  16.0                           8            0  \n",
       "79999                  11.0                          10            0  \n",
       "\n",
       "[80000 rows x 8 columns]"
      ]
     },
     "execution_count": 287,
     "metadata": {},
     "output_type": "execute_result"
    }
   ],
   "source": [
    "data_tr.head()\n",
    "len(data_tr)\n",
    "data_tr"
   ]
  },
  {
   "cell_type": "code",
   "execution_count": 288,
   "metadata": {},
   "outputs": [
    {
     "data": {
      "text/plain": [
       "<AxesSubplot:>"
      ]
     },
     "execution_count": 288,
     "metadata": {},
     "output_type": "execute_result"
    },
    {
     "data": {
      "image/png": "[encoded data removed]",
      "text/plain": [
       "<Figure size 720x720 with 2 Axes>"
      ]
     },
     "metadata": {
      "needs_background": "light"
     },
     "output_type": "display_data"
    }
   ],
   "source": [
    "import seaborn as sns\n",
    "import matplotlib.pyplot as plt\n",
    "\n",
    "plt.figure(figsize=(10,10))\n",
    "sns.heatmap(data_tr.corr(),annot= True )"
   ]
  },
  {
   "cell_type": "markdown",
   "metadata": {},
   "source": [
    "# Sampling"
   ]
  },
  {
   "cell_type": "code",
   "execution_count": 289,
   "metadata": {},
   "outputs": [
    {
     "name": "stdout",
     "output_type": "stream",
     "text": [
      "(64000, 7)\n",
      "(16000, 7)\n",
      "(64000, 1)\n",
      "(16000, 1)\n"
     ]
    }
   ],
   "source": [
    "X = data_tr.drop(\"Crop_status\", axis = 1)\n",
    "Y = data_tr[[\"Crop_status\"]]\n",
    "\n",
    "#sampling\n",
    "from sklearn.model_selection import train_test_split\n",
    "\n",
    "train_x , test_x , train_y , test_y = train_test_split( X , Y , test_size = .2 , random_state = 57)\n",
    "\n",
    "print(train_x.shape)\n",
    "print(test_x.shape)\n",
    "print(train_y.shape)\n",
    "print(test_y.shape)"
   ]
  },
  {
   "cell_type": "markdown",
   "metadata": {},
   "source": [
    "# Model BUilding On Logistic Regression"
   ]
  },
  {
   "cell_type": "code",
   "execution_count": 290,
   "metadata": {},
   "outputs": [],
   "source": [
    "from sklearn.linear_model import LogisticRegression\n",
    "\n",
    "logreg = LogisticRegression()"
   ]
  },
  {
   "cell_type": "code",
   "execution_count": 291,
   "metadata": {},
   "outputs": [
    {
     "name": "stderr",
     "output_type": "stream",
     "text": [
      "C:\\Users\\Denis\\anaconda3\\lib\\site-packages\\sklearn\\utils\\validation.py:72: DataConversionWarning: A column-vector y was passed when a 1d array was expected. Please change the shape of y to (n_samples, ), for example using ravel().\n",
      "  return f(**kwargs)\n",
      "C:\\Users\\Denis\\anaconda3\\lib\\site-packages\\sklearn\\linear_model\\_logistic.py:762: ConvergenceWarning: lbfgs failed to converge (status=1):\n",
      "STOP: TOTAL NO. of ITERATIONS REACHED LIMIT.\n",
      "\n",
      "Increase the number of iterations (max_iter) or scale the data as shown in:\n",
      "    https://scikit-learn.org/stable/modules/preprocessing.html\n",
      "Please also refer to the documentation for alternative solver options:\n",
      "    https://scikit-learn.org/stable/modules/linear_model.html#logistic-regression\n",
      "  n_iter_i = _check_optimize_result(\n"
     ]
    }
   ],
   "source": [
    "model = logreg.fit(train_x, train_y)\n",
    "#print(\"Model Fitted Successfully!!!\")"
   ]
  },
  {
   "cell_type": "code",
   "execution_count": 292,
   "metadata": {},
   "outputs": [],
   "source": [
    "pred_log = model.predict(test_x)\n",
    "pred_value = model.predict(test_x)"
   ]
  },
  {
   "cell_type": "code",
   "execution_count": 293,
   "metadata": {},
   "outputs": [
    {
     "name": "stdout",
     "output_type": "stream",
     "text": [
      "Confusion Matrix:\n",
      " [[13246  2087   358]\n",
      " [  144   134    31]\n",
      " [    0     0     0]]\n"
     ]
    }
   ],
   "source": [
    "from sklearn.metrics import confusion_matrix\n",
    "tab1 = confusion_matrix(pred_log, test_y)\n",
    "print(\"Confusion Matrix:\\n\",tab1)"
   ]
  },
  {
   "cell_type": "code",
   "execution_count": 294,
   "metadata": {},
   "outputs": [
    {
     "data": {
      "text/plain": [
       "0.83625"
      ]
     },
     "execution_count": 294,
     "metadata": {},
     "output_type": "execute_result"
    }
   ],
   "source": [
    "tab1.diagonal().sum()/tab1.sum()"
   ]
  },
  {
   "cell_type": "markdown",
   "metadata": {},
   "source": [
    "# Model building on RandomForestClassifier"
   ]
  },
  {
   "cell_type": "code",
   "execution_count": 295,
   "metadata": {},
   "outputs": [],
   "source": [
    "from sklearn.ensemble import RandomForestClassifier\n",
    "rf = RandomForestClassifier()"
   ]
  },
  {
   "cell_type": "code",
   "execution_count": 296,
   "metadata": {},
   "outputs": [
    {
     "name": "stderr",
     "output_type": "stream",
     "text": [
      "<ipython-input-296-15ff01ea966c>:1: DataConversionWarning: A column-vector y was passed when a 1d array was expected. Please change the shape of y to (n_samples,), for example using ravel().\n",
      "  model1=rf.fit(train_x , train_y)\n"
     ]
    },
    {
     "name": "stdout",
     "output_type": "stream",
     "text": [
      "Confusion Matrix:\n",
      " [[12526  1686   241]\n",
      " [  760   461   127]\n",
      " [  104    74    21]]\n"
     ]
    }
   ],
   "source": [
    "model1=rf.fit(train_x , train_y)\n",
    "pred_rf = rf.predict(test_x)\n",
    "tab2 = confusion_matrix(pred_rf, test_y)\n",
    "print(\"Confusion Matrix:\\n\",tab2)"
   ]
  },
  {
   "cell_type": "code",
   "execution_count": 297,
   "metadata": {},
   "outputs": [
    {
     "data": {
      "text/plain": [
       "0.813"
      ]
     },
     "execution_count": 297,
     "metadata": {},
     "output_type": "execute_result"
    }
   ],
   "source": [
    "tab2.diagonal().sum()/tab2.sum()"
   ]
  },
  {
   "cell_type": "markdown",
   "metadata": {},
   "source": [
    "# Model Building on Decision tree"
   ]
  },
  {
   "cell_type": "code",
   "execution_count": 298,
   "metadata": {},
   "outputs": [
    {
     "data": {
      "text/plain": [
       "DecisionTreeClassifier(criterion='entropy', max_depth=3)"
      ]
     },
     "execution_count": 298,
     "metadata": {},
     "output_type": "execute_result"
    }
   ],
   "source": [
    "from sklearn.tree import DecisionTreeClassifier\n",
    "dtree =DecisionTreeClassifier(criterion = 'entropy',max_depth=3)\n",
    "dtree.fit(train_x,train_y)"
   ]
  },
  {
   "cell_type": "code",
   "execution_count": 299,
   "metadata": {},
   "outputs": [],
   "source": [
    "model2=dtree.fit(train_x , train_y)\n",
    "pred_value = dtree.predict(test_x)"
   ]
  },
  {
   "cell_type": "code",
   "execution_count": 300,
   "metadata": {},
   "outputs": [
    {
     "data": {
      "text/plain": [
       "array([[13371,  2122,   361],\n",
       "       [   19,    99,    28],\n",
       "       [    0,     0,     0]], dtype=int64)"
      ]
     },
     "execution_count": 300,
     "metadata": {},
     "output_type": "execute_result"
    }
   ],
   "source": [
    "tab3 =confusion_matrix(pred_value , test_y)\n",
    "tab3"
   ]
  },
  {
   "cell_type": "code",
   "execution_count": 301,
   "metadata": {},
   "outputs": [
    {
     "data": {
      "text/plain": [
       "0.841875"
      ]
     },
     "execution_count": 301,
     "metadata": {},
     "output_type": "execute_result"
    }
   ],
   "source": [
    "tab3.diagonal().sum()/tab3.sum()"
   ]
  },
  {
   "cell_type": "markdown",
   "metadata": {},
   "source": [
    "# Model Building on Gradient Boosting"
   ]
  },
  {
   "cell_type": "code",
   "execution_count": 302,
   "metadata": {},
   "outputs": [],
   "source": [
    "from sklearn.ensemble import GradientBoostingClassifier\n",
    "gbc = GradientBoostingClassifier()"
   ]
  },
  {
   "cell_type": "code",
   "execution_count": 303,
   "metadata": {},
   "outputs": [
    {
     "name": "stderr",
     "output_type": "stream",
     "text": [
      "C:\\Users\\Denis\\anaconda3\\lib\\site-packages\\sklearn\\utils\\validation.py:72: DataConversionWarning: A column-vector y was passed when a 1d array was expected. Please change the shape of y to (n_samples, ), for example using ravel().\n",
      "  return f(**kwargs)\n"
     ]
    },
    {
     "name": "stdout",
     "output_type": "stream",
     "text": [
      "Model Fitted\n"
     ]
    }
   ],
   "source": [
    "model3=gbc.fit(train_x,train_y)\n",
    "print(\"Model Fitted\")"
   ]
  },
  {
   "cell_type": "code",
   "execution_count": 304,
   "metadata": {},
   "outputs": [],
   "source": [
    "pred_gbc = gbc.predict(test_x)"
   ]
  },
  {
   "cell_type": "code",
   "execution_count": 305,
   "metadata": {},
   "outputs": [
    {
     "name": "stdout",
     "output_type": "stream",
     "text": [
      "Confusion Matrix:\n",
      " [[13227  1904   296]\n",
      " [  163   315    93]\n",
      " [    0     2     0]]\n"
     ]
    }
   ],
   "source": [
    "tab4 = confusion_matrix(pred_gbc, test_y)\n",
    "print(\"Confusion Matrix:\\n\",tab4)"
   ]
  },
  {
   "cell_type": "code",
   "execution_count": 306,
   "metadata": {},
   "outputs": [
    {
     "data": {
      "text/plain": [
       "0.846375"
      ]
     },
     "execution_count": 306,
     "metadata": {},
     "output_type": "execute_result"
    }
   ],
   "source": [
    "tab4.diagonal().sum()/tab4.sum()"
   ]
  },
  {
   "cell_type": "markdown",
   "metadata": {},
   "source": [
    "# Model Building on LGBM Classifier"
   ]
  },
  {
   "cell_type": "code",
   "execution_count": 307,
   "metadata": {},
   "outputs": [],
   "source": [
    "from lightgbm import LGBMClassifier\n",
    "from xgboost import XGBClassifier\n",
    "from sklearn.metrics import accuracy_score\n",
    "from sklearn.metrics import f1_score\n",
    "from sklearn.model_selection import KFold, train_test_split"
   ]
  },
  {
   "cell_type": "code",
   "execution_count": 308,
   "metadata": {},
   "outputs": [],
   "source": [
    "params = {}\n",
    "params['learning_rate'] = 0.04\n",
    "params['max_depth'] = 18\n",
    "params['n_estimators'] = 3000\n",
    "params['objective'] = 'multiclass'\n",
    "params['boosting_type'] = 'gbdt'\n",
    "params['subsample'] = 0.7\n",
    "params['random_state'] = 42\n",
    "params['colsample_bytree']=0.7\n",
    "params['min_data_in_leaf'] = 55\n",
    "params['reg_alpha'] = 1.7\n",
    "params['reg_lambda'] = 1.11\n",
    "params['class_weight']: {0: 0.44, 1: 0.4, 2: 0.37}"
   ]
  },
  {
   "cell_type": "code",
   "execution_count": 309,
   "metadata": {},
   "outputs": [
    {
     "name": "stdout",
     "output_type": "stream",
     "text": [
      "[LightGBM] [Warning] Accuracy may be bad since you didn't explicitly set num_leaves OR 2^max_depth > num_leaves. (num_leaves=31).\n"
     ]
    },
    {
     "name": "stderr",
     "output_type": "stream",
     "text": [
      "C:\\Users\\Denis\\anaconda3\\lib\\site-packages\\sklearn\\utils\\validation.py:72: DataConversionWarning: A column-vector y was passed when a 1d array was expected. Please change the shape of y to (n_samples, ), for example using ravel().\n",
      "  return f(**kwargs)\n"
     ]
    },
    {
     "name": "stdout",
     "output_type": "stream",
     "text": [
      "0.8098107413732702\n",
      "0.849625\n"
     ]
    }
   ],
   "source": [
    "lg=LGBMClassifier(max_depth = 10 , n_estimators=130 ,learning_rate=0.1,boosting_type='gbdt',subsample=0.9,random_state=40,)\n",
    "\n",
    "model4 = lg.fit(train_x , train_y)\n",
    "Y_predict=lg.predict(test_x)\n",
    "\n",
    "print(f1_score(test_y,Y_predict, average='weighted'))\n",
    "\n",
    "print(accuracy_score(test_y,Y_predict))"
   ]
  },
  {
   "cell_type": "code",
   "execution_count": 310,
   "metadata": {},
   "outputs": [
    {
     "name": "stdout",
     "output_type": "stream",
     "text": [
      "[LightGBM] [Warning] Accuracy may be bad since you didn't explicitly set num_leaves OR 2^max_depth > num_leaves. (num_leaves=31).\n",
      "0.849625\n",
      "0.849625\n"
     ]
    }
   ],
   "source": [
    "model4 = lg.fit(train_x , train_y)\n",
    "Y_predict=lg.predict(test_x)\n",
    "\n",
    "print(f1_score(test_y,Y_predict, average='micro'))\n",
    "\n",
    "print(accuracy_score(test_y,Y_predict))"
   ]
  },
  {
   "cell_type": "code",
   "execution_count": 311,
   "metadata": {},
   "outputs": [
    {
     "data": {
      "text/plain": [
       "array([[13166,  1792,   269],\n",
       "       [  224,   427,   119],\n",
       "       [    0,     2,     1]], dtype=int64)"
      ]
     },
     "execution_count": 311,
     "metadata": {},
     "output_type": "execute_result"
    }
   ],
   "source": [
    "from sklearn.metrics import confusion_matrix\n",
    "\n",
    "tab5 =confusion_matrix(Y_predict , test_y)\n",
    "tab5"
   ]
  },
  {
   "cell_type": "code",
   "execution_count": 312,
   "metadata": {},
   "outputs": [
    {
     "data": {
      "text/plain": [
       "84.9625"
      ]
     },
     "execution_count": 312,
     "metadata": {},
     "output_type": "execute_result"
    }
   ],
   "source": [
    "tab5.diagonal().sum()*100/tab5.sum()"
   ]
  },
  {
   "cell_type": "markdown",
   "metadata": {},
   "source": [
    "# Test Data"
   ]
  },
  {
   "cell_type": "code",
   "execution_count": 313,
   "metadata": {},
   "outputs": [],
   "source": [
    "data_te =pd.read_excel(r\"D:\\skillenza denis\\Stage2\\test.xlsx\")"
   ]
  },
  {
   "cell_type": "code",
   "execution_count": 314,
   "metadata": {},
   "outputs": [
    {
     "data": {
      "text/html": [
       "<div>\n",
       "<style scoped>\n",
       "    .dataframe tbody tr th:only-of-type {\n",
       "        vertical-align: middle;\n",
       "    }\n",
       "\n",
       "    .dataframe tbody tr th {\n",
       "        vertical-align: top;\n",
       "    }\n",
       "\n",
       "    .dataframe thead th {\n",
       "        text-align: right;\n",
       "    }\n",
       "</style>\n",
       "<table border=\"1\" class=\"dataframe\">\n",
       "  <thead>\n",
       "    <tr style=\"text-align: right;\">\n",
       "      <th></th>\n",
       "      <th>ID</th>\n",
       "      <th>Insects</th>\n",
       "      <th>Crop</th>\n",
       "      <th>Soil</th>\n",
       "      <th>Category_of_Toxicant</th>\n",
       "      <th>Does_count</th>\n",
       "      <th>Number_of_Weeks_Used</th>\n",
       "      <th>Number_Weeks_does_not used</th>\n",
       "      <th>Season</th>\n",
       "    </tr>\n",
       "  </thead>\n",
       "  <tbody>\n",
       "    <tr>\n",
       "      <th>0</th>\n",
       "      <td>1</td>\n",
       "      <td>188</td>\n",
       "      <td>Feed</td>\n",
       "      <td>silt</td>\n",
       "      <td>1</td>\n",
       "      <td>0</td>\n",
       "      <td>NaN</td>\n",
       "      <td>0</td>\n",
       "      <td>2</td>\n",
       "    </tr>\n",
       "    <tr>\n",
       "      <th>1</th>\n",
       "      <td>2</td>\n",
       "      <td>410</td>\n",
       "      <td>Feed</td>\n",
       "      <td>silt</td>\n",
       "      <td>1</td>\n",
       "      <td>0</td>\n",
       "      <td>0.0</td>\n",
       "      <td>0</td>\n",
       "      <td>2</td>\n",
       "    </tr>\n",
       "    <tr>\n",
       "      <th>2</th>\n",
       "      <td>3</td>\n",
       "      <td>626</td>\n",
       "      <td>Feed</td>\n",
       "      <td>clay</td>\n",
       "      <td>1</td>\n",
       "      <td>0</td>\n",
       "      <td>0.0</td>\n",
       "      <td>0</td>\n",
       "      <td>2</td>\n",
       "    </tr>\n",
       "    <tr>\n",
       "      <th>3</th>\n",
       "      <td>4</td>\n",
       "      <td>731</td>\n",
       "      <td>Feed</td>\n",
       "      <td>clay</td>\n",
       "      <td>1</td>\n",
       "      <td>0</td>\n",
       "      <td>0.0</td>\n",
       "      <td>0</td>\n",
       "      <td>2</td>\n",
       "    </tr>\n",
       "    <tr>\n",
       "      <th>4</th>\n",
       "      <td>5</td>\n",
       "      <td>789</td>\n",
       "      <td>Food</td>\n",
       "      <td>clay</td>\n",
       "      <td>1</td>\n",
       "      <td>0</td>\n",
       "      <td>0.0</td>\n",
       "      <td>0</td>\n",
       "      <td>1</td>\n",
       "    </tr>\n",
       "  </tbody>\n",
       "</table>\n",
       "</div>"
      ],
      "text/plain": [
       "   ID  Insects  Crop  Soil  Category_of_Toxicant  Does_count  \\\n",
       "0   1      188  Feed  silt                     1           0   \n",
       "1   2      410  Feed  silt                     1           0   \n",
       "2   3      626  Feed  clay                     1           0   \n",
       "3   4      731  Feed  clay                     1           0   \n",
       "4   5      789  Food  clay                     1           0   \n",
       "\n",
       "   Number_of_Weeks_Used  Number_Weeks_does_not used  Season  \n",
       "0                   NaN                           0       2  \n",
       "1                   0.0                           0       2  \n",
       "2                   0.0                           0       2  \n",
       "3                   0.0                           0       2  \n",
       "4                   0.0                           0       1  "
      ]
     },
     "execution_count": 314,
     "metadata": {},
     "output_type": "execute_result"
    }
   ],
   "source": [
    "data_te.head()"
   ]
  },
  {
   "cell_type": "code",
   "execution_count": 315,
   "metadata": {},
   "outputs": [
    {
     "data": {
      "text/plain": [
       "(35000, 9)"
      ]
     },
     "execution_count": 315,
     "metadata": {},
     "output_type": "execute_result"
    }
   ],
   "source": [
    "data_te.shape"
   ]
  },
  {
   "cell_type": "code",
   "execution_count": 316,
   "metadata": {},
   "outputs": [
    {
     "data": {
      "text/plain": [
       "ID                               0\n",
       "Insects                          0\n",
       "Crop                             0\n",
       "Soil                             0\n",
       "Category_of_Toxicant             0\n",
       "Does_count                       0\n",
       "Number_of_Weeks_Used          3542\n",
       "Number_Weeks_does_not used       0\n",
       "Season                           0\n",
       "dtype: int64"
      ]
     },
     "execution_count": 316,
     "metadata": {},
     "output_type": "execute_result"
    }
   ],
   "source": [
    "data_te.isnull().sum()"
   ]
  },
  {
   "cell_type": "code",
   "execution_count": 317,
   "metadata": {},
   "outputs": [],
   "source": [
    "data_te = data_te_.drop([\"ID\" , \"Season\"] , axis = 1)"
   ]
  },
  {
   "cell_type": "code",
   "execution_count": 318,
   "metadata": {},
   "outputs": [],
   "source": [
    "data_te.Number_of_Weeks_Used = data_te.Number_of_Weeks_Used.fillna(data_te.Number_of_Weeks_Used.mean())"
   ]
  },
  {
   "cell_type": "code",
   "execution_count": 319,
   "metadata": {},
   "outputs": [],
   "source": [
    "data_te[data_te.select_dtypes(include=[\"object\"]).columns] = data_te[data_te.select_dtypes(include=[\"object\"]).columns].apply(le.fit_transform)"
   ]
  },
  {
   "cell_type": "code",
   "execution_count": 320,
   "metadata": {},
   "outputs": [
    {
     "data": {
      "text/html": [
       "<div>\n",
       "<style scoped>\n",
       "    .dataframe tbody tr th:only-of-type {\n",
       "        vertical-align: middle;\n",
       "    }\n",
       "\n",
       "    .dataframe tbody tr th {\n",
       "        vertical-align: top;\n",
       "    }\n",
       "\n",
       "    .dataframe thead th {\n",
       "        text-align: right;\n",
       "    }\n",
       "</style>\n",
       "<table border=\"1\" class=\"dataframe\">\n",
       "  <thead>\n",
       "    <tr style=\"text-align: right;\">\n",
       "      <th></th>\n",
       "      <th>Insects</th>\n",
       "      <th>Crop</th>\n",
       "      <th>Soil</th>\n",
       "      <th>Category_of_Toxicant</th>\n",
       "      <th>Does_count</th>\n",
       "      <th>Number_of_Weeks_Used</th>\n",
       "      <th>Number_Weeks_does_not used</th>\n",
       "    </tr>\n",
       "  </thead>\n",
       "  <tbody>\n",
       "    <tr>\n",
       "      <th>0</th>\n",
       "      <td>188</td>\n",
       "      <td>0</td>\n",
       "      <td>1</td>\n",
       "      <td>1</td>\n",
       "      <td>0</td>\n",
       "      <td>28.775701</td>\n",
       "      <td>0</td>\n",
       "    </tr>\n",
       "    <tr>\n",
       "      <th>1</th>\n",
       "      <td>410</td>\n",
       "      <td>0</td>\n",
       "      <td>1</td>\n",
       "      <td>1</td>\n",
       "      <td>0</td>\n",
       "      <td>0.000000</td>\n",
       "      <td>0</td>\n",
       "    </tr>\n",
       "    <tr>\n",
       "      <th>2</th>\n",
       "      <td>626</td>\n",
       "      <td>0</td>\n",
       "      <td>0</td>\n",
       "      <td>1</td>\n",
       "      <td>0</td>\n",
       "      <td>0.000000</td>\n",
       "      <td>0</td>\n",
       "    </tr>\n",
       "    <tr>\n",
       "      <th>3</th>\n",
       "      <td>731</td>\n",
       "      <td>0</td>\n",
       "      <td>0</td>\n",
       "      <td>1</td>\n",
       "      <td>0</td>\n",
       "      <td>0.000000</td>\n",
       "      <td>0</td>\n",
       "    </tr>\n",
       "    <tr>\n",
       "      <th>4</th>\n",
       "      <td>789</td>\n",
       "      <td>1</td>\n",
       "      <td>0</td>\n",
       "      <td>1</td>\n",
       "      <td>0</td>\n",
       "      <td>0.000000</td>\n",
       "      <td>0</td>\n",
       "    </tr>\n",
       "  </tbody>\n",
       "</table>\n",
       "</div>"
      ],
      "text/plain": [
       "   Insects  Crop  Soil  Category_of_Toxicant  Does_count  \\\n",
       "0      188     0     1                     1           0   \n",
       "1      410     0     1                     1           0   \n",
       "2      626     0     0                     1           0   \n",
       "3      731     0     0                     1           0   \n",
       "4      789     1     0                     1           0   \n",
       "\n",
       "   Number_of_Weeks_Used  Number_Weeks_does_not used  \n",
       "0             28.775701                           0  \n",
       "1              0.000000                           0  \n",
       "2              0.000000                           0  \n",
       "3              0.000000                           0  \n",
       "4              0.000000                           0  "
      ]
     },
     "execution_count": 320,
     "metadata": {},
     "output_type": "execute_result"
    }
   ],
   "source": [
    "data_te.head()"
   ]
  },
  {
   "cell_type": "code",
   "execution_count": 321,
   "metadata": {},
   "outputs": [
    {
     "data": {
      "text/plain": [
       "(35000, 7)"
      ]
     },
     "execution_count": 321,
     "metadata": {},
     "output_type": "execute_result"
    }
   ],
   "source": [
    "data_te.shape"
   ]
  },
  {
   "cell_type": "code",
   "execution_count": 322,
   "metadata": {},
   "outputs": [
    {
     "data": {
      "text/plain": [
       "array([1, 1, 1, ..., 0, 0, 0], dtype=int64)"
      ]
     },
     "execution_count": 322,
     "metadata": {},
     "output_type": "execute_result"
    }
   ],
   "source": [
    "pred_value_te = model4.predict(data_te)\n",
    "pred_value_te"
   ]
  },
  {
   "cell_type": "code",
   "execution_count": 323,
   "metadata": {},
   "outputs": [],
   "source": [
    "l3p1_submission1 = pd.DataFrame({\"ID\":data_te_[\"ID\"],\n",
    "                               \"Crop_status\":pred_value_te})"
   ]
  },
  {
   "cell_type": "code",
   "execution_count": 324,
   "metadata": {},
   "outputs": [],
   "source": [
    "l3p1_submission1.to_csv(r\"D:\\skillenza denis\\Stage2\\sub5.csv\",index=False)"
   ]
  },
  {
   "cell_type": "code",
   "execution_count": null,
   "metadata": {},
   "outputs": [],
   "source": []
  }
 ],
 "metadata": {
  "kernelspec": {
   "display_name": "Python 3",
   "language": "python",
   "name": "python3"
  },
  "language_info": {
   "codemirror_mode": {
    "name": "ipython",
    "version": 3
   },
   "file_extension": ".py",
   "mimetype": "text/x-python",
   "name": "python",
   "nbconvert_exporter": "python",
   "pygments_lexer": "ipython3",
   "version": "3.8.5"
  }
 },
 "nbformat": 4,
 "nbformat_minor": 4
}
