{
 "cells": [
  {
   "cell_type": "code",
   "execution_count": 11,
   "metadata": {},
   "outputs": [],
   "source": [
    "import pandas as pd\n",
    "import numpy as np\n",
    "import seaborn as sns\n",
    "import matplotlib.pyplot as plt\n",
    "\n",
    "import warnings\n",
    "warnings.filterwarnings('ignore')\n",
    "\n",
    "pd.set_option('display.max_columns' , 500)\n",
    "pd.set_option('display.max_row',100)"
   ]
  },
  {
   "cell_type": "code",
   "execution_count": 12,
   "metadata": {},
   "outputs": [],
   "source": [
    "data = pd.read_csv(r\"D:\\Hack\\HACK2\\train_fashion.csv\")"
   ]
  },
  {
   "cell_type": "code",
   "execution_count": 13,
   "metadata": {},
   "outputs": [
    {
     "data": {
      "text/html": [
       "<div>\n",
       "<style scoped>\n",
       "    .dataframe tbody tr th:only-of-type {\n",
       "        vertical-align: middle;\n",
       "    }\n",
       "\n",
       "    .dataframe tbody tr th {\n",
       "        vertical-align: top;\n",
       "    }\n",
       "\n",
       "    .dataframe thead th {\n",
       "        text-align: right;\n",
       "    }\n",
       "</style>\n",
       "<table border=\"1\" class=\"dataframe\">\n",
       "  <thead>\n",
       "    <tr style=\"text-align: right;\">\n",
       "      <th></th>\n",
       "      <th>Order_Ref_Number</th>\n",
       "      <th>Order_Placed_AT</th>\n",
       "      <th>Order_Delivered_Date</th>\n",
       "      <th>Product_Ref_ID</th>\n",
       "      <th>Size</th>\n",
       "      <th>Color_Code</th>\n",
       "      <th>Product_Category_Reference</th>\n",
       "      <th>Cost_to_Customer(USD)</th>\n",
       "      <th>Customer_ID</th>\n",
       "      <th>Gender</th>\n",
       "      <th>Customer_BirthDate</th>\n",
       "      <th>Customer_Location</th>\n",
       "      <th>Customer_Joining_Date</th>\n",
       "      <th>Order_Repeat_Chance</th>\n",
       "    </tr>\n",
       "  </thead>\n",
       "  <tbody>\n",
       "    <tr>\n",
       "      <th>0</th>\n",
       "      <td>98981</td>\n",
       "      <td>2016-09-10</td>\n",
       "      <td>2016-09-11</td>\n",
       "      <td>897</td>\n",
       "      <td>l</td>\n",
       "      <td>grey</td>\n",
       "      <td>33</td>\n",
       "      <td>19.9</td>\n",
       "      <td>48040</td>\n",
       "      <td>Mrs</td>\n",
       "      <td>1960-05-30</td>\n",
       "      <td>Hamburg</td>\n",
       "      <td>2015-02-17</td>\n",
       "      <td>0</td>\n",
       "    </tr>\n",
       "    <tr>\n",
       "      <th>1</th>\n",
       "      <td>69825</td>\n",
       "      <td>2016-08-15</td>\n",
       "      <td>2016-08-20</td>\n",
       "      <td>1557</td>\n",
       "      <td>xl</td>\n",
       "      <td>petrol</td>\n",
       "      <td>31</td>\n",
       "      <td>89.9</td>\n",
       "      <td>42892</td>\n",
       "      <td>Mrs</td>\n",
       "      <td>1958-09-23</td>\n",
       "      <td>Lower Saxony</td>\n",
       "      <td>2015-11-14</td>\n",
       "      <td>1</td>\n",
       "    </tr>\n",
       "    <tr>\n",
       "      <th>2</th>\n",
       "      <td>9929</td>\n",
       "      <td>2016-06-27</td>\n",
       "      <td>2016-07-02</td>\n",
       "      <td>292</td>\n",
       "      <td>4+</td>\n",
       "      <td>grey</td>\n",
       "      <td>4</td>\n",
       "      <td>64.9</td>\n",
       "      <td>32479</td>\n",
       "      <td>Mrs</td>\n",
       "      <td>1961-09-19</td>\n",
       "      <td>Hesse</td>\n",
       "      <td>2016-06-28</td>\n",
       "      <td>0</td>\n",
       "    </tr>\n",
       "    <tr>\n",
       "      <th>3</th>\n",
       "      <td>75600</td>\n",
       "      <td>2016-08-21</td>\n",
       "      <td>2016-08-22</td>\n",
       "      <td>1445</td>\n",
       "      <td>xxl</td>\n",
       "      <td>grey</td>\n",
       "      <td>29</td>\n",
       "      <td>59.9</td>\n",
       "      <td>4216</td>\n",
       "      <td>Mrs</td>\n",
       "      <td>1952-10-01</td>\n",
       "      <td>Lower Saxony</td>\n",
       "      <td>2015-02-17</td>\n",
       "      <td>0</td>\n",
       "    </tr>\n",
       "    <tr>\n",
       "      <th>4</th>\n",
       "      <td>95622</td>\n",
       "      <td>2016-09-06</td>\n",
       "      <td>2016-09-07</td>\n",
       "      <td>1415</td>\n",
       "      <td>m</td>\n",
       "      <td>mahagoni</td>\n",
       "      <td>3</td>\n",
       "      <td>21.9</td>\n",
       "      <td>39571</td>\n",
       "      <td>Mrs</td>\n",
       "      <td>1963-10-30</td>\n",
       "      <td>North Rhine-Westphalia</td>\n",
       "      <td>2015-10-02</td>\n",
       "      <td>0</td>\n",
       "    </tr>\n",
       "  </tbody>\n",
       "</table>\n",
       "</div>"
      ],
      "text/plain": [
       "   Order_Ref_Number Order_Placed_AT Order_Delivered_Date  Product_Ref_ID Size  \\\n",
       "0             98981      2016-09-10           2016-09-11             897    l   \n",
       "1             69825      2016-08-15           2016-08-20            1557   xl   \n",
       "2              9929      2016-06-27           2016-07-02             292   4+   \n",
       "3             75600      2016-08-21           2016-08-22            1445  xxl   \n",
       "4             95622      2016-09-06           2016-09-07            1415    m   \n",
       "\n",
       "  Color_Code  Product_Category_Reference  Cost_to_Customer(USD)  Customer_ID  \\\n",
       "0       grey                          33                   19.9        48040   \n",
       "1     petrol                          31                   89.9        42892   \n",
       "2       grey                           4                   64.9        32479   \n",
       "3       grey                          29                   59.9         4216   \n",
       "4   mahagoni                           3                   21.9        39571   \n",
       "\n",
       "  Gender Customer_BirthDate       Customer_Location Customer_Joining_Date  \\\n",
       "0    Mrs         1960-05-30                 Hamburg            2015-02-17   \n",
       "1    Mrs         1958-09-23            Lower Saxony            2015-11-14   \n",
       "2    Mrs         1961-09-19                   Hesse            2016-06-28   \n",
       "3    Mrs         1952-10-01            Lower Saxony            2015-02-17   \n",
       "4    Mrs         1963-10-30  North Rhine-Westphalia            2015-10-02   \n",
       "\n",
       "   Order_Repeat_Chance  \n",
       "0                    0  \n",
       "1                    1  \n",
       "2                    0  \n",
       "3                    0  \n",
       "4                    0  "
      ]
     },
     "execution_count": 13,
     "metadata": {},
     "output_type": "execute_result"
    }
   ],
   "source": [
    "data.head()"
   ]
  },
  {
   "cell_type": "code",
   "execution_count": 14,
   "metadata": {},
   "outputs": [
    {
     "data": {
      "text/plain": [
       "(75000, 14)"
      ]
     },
     "execution_count": 14,
     "metadata": {},
     "output_type": "execute_result"
    }
   ],
   "source": [
    "data.shape"
   ]
  },
  {
   "cell_type": "code",
   "execution_count": 15,
   "metadata": {},
   "outputs": [
    {
     "data": {
      "text/html": [
       "<div>\n",
       "<style scoped>\n",
       "    .dataframe tbody tr th:only-of-type {\n",
       "        vertical-align: middle;\n",
       "    }\n",
       "\n",
       "    .dataframe tbody tr th {\n",
       "        vertical-align: top;\n",
       "    }\n",
       "\n",
       "    .dataframe thead th {\n",
       "        text-align: right;\n",
       "    }\n",
       "</style>\n",
       "<table border=\"1\" class=\"dataframe\">\n",
       "  <thead>\n",
       "    <tr style=\"text-align: right;\">\n",
       "      <th></th>\n",
       "      <th>Order_Ref_Number</th>\n",
       "      <th>Product_Ref_ID</th>\n",
       "      <th>Product_Category_Reference</th>\n",
       "      <th>Cost_to_Customer(USD)</th>\n",
       "      <th>Customer_ID</th>\n",
       "      <th>Order_Repeat_Chance</th>\n",
       "    </tr>\n",
       "  </thead>\n",
       "  <tbody>\n",
       "    <tr>\n",
       "      <th>count</th>\n",
       "      <td>75000.000000</td>\n",
       "      <td>75000.000000</td>\n",
       "      <td>75000.000000</td>\n",
       "      <td>75000.000000</td>\n",
       "      <td>75000.000000</td>\n",
       "      <td>75000.000000</td>\n",
       "    </tr>\n",
       "    <tr>\n",
       "      <th>mean</th>\n",
       "      <td>50002.922613</td>\n",
       "      <td>924.275213</td>\n",
       "      <td>30.173093</td>\n",
       "      <td>65.232934</td>\n",
       "      <td>27164.660547</td>\n",
       "      <td>0.459933</td>\n",
       "    </tr>\n",
       "    <tr>\n",
       "      <th>std</th>\n",
       "      <td>28883.591717</td>\n",
       "      <td>702.739285</td>\n",
       "      <td>28.190524</td>\n",
       "      <td>48.291431</td>\n",
       "      <td>14043.973668</td>\n",
       "      <td>0.498395</td>\n",
       "    </tr>\n",
       "    <tr>\n",
       "      <th>min</th>\n",
       "      <td>1.000000</td>\n",
       "      <td>1.000000</td>\n",
       "      <td>1.000000</td>\n",
       "      <td>0.000000</td>\n",
       "      <td>9.000000</td>\n",
       "      <td>0.000000</td>\n",
       "    </tr>\n",
       "    <tr>\n",
       "      <th>25%</th>\n",
       "      <td>24976.750000</td>\n",
       "      <td>214.000000</td>\n",
       "      <td>5.000000</td>\n",
       "      <td>29.900000</td>\n",
       "      <td>14943.000000</td>\n",
       "      <td>0.000000</td>\n",
       "    </tr>\n",
       "    <tr>\n",
       "      <th>50%</th>\n",
       "      <td>50042.500000</td>\n",
       "      <td>812.000000</td>\n",
       "      <td>25.000000</td>\n",
       "      <td>49.900000</td>\n",
       "      <td>31185.000000</td>\n",
       "      <td>0.000000</td>\n",
       "    </tr>\n",
       "    <tr>\n",
       "      <th>75%</th>\n",
       "      <td>75038.250000</td>\n",
       "      <td>1582.000000</td>\n",
       "      <td>44.000000</td>\n",
       "      <td>79.900000</td>\n",
       "      <td>38924.000000</td>\n",
       "      <td>1.000000</td>\n",
       "    </tr>\n",
       "    <tr>\n",
       "      <th>max</th>\n",
       "      <td>99999.000000</td>\n",
       "      <td>2241.000000</td>\n",
       "      <td>138.000000</td>\n",
       "      <td>999.000000</td>\n",
       "      <td>48241.000000</td>\n",
       "      <td>1.000000</td>\n",
       "    </tr>\n",
       "  </tbody>\n",
       "</table>\n",
       "</div>"
      ],
      "text/plain": [
       "       Order_Ref_Number  Product_Ref_ID  Product_Category_Reference  \\\n",
       "count      75000.000000    75000.000000                75000.000000   \n",
       "mean       50002.922613      924.275213                   30.173093   \n",
       "std        28883.591717      702.739285                   28.190524   \n",
       "min            1.000000        1.000000                    1.000000   \n",
       "25%        24976.750000      214.000000                    5.000000   \n",
       "50%        50042.500000      812.000000                   25.000000   \n",
       "75%        75038.250000     1582.000000                   44.000000   \n",
       "max        99999.000000     2241.000000                  138.000000   \n",
       "\n",
       "       Cost_to_Customer(USD)   Customer_ID  Order_Repeat_Chance  \n",
       "count           75000.000000  75000.000000         75000.000000  \n",
       "mean               65.232934  27164.660547             0.459933  \n",
       "std                48.291431  14043.973668             0.498395  \n",
       "min                 0.000000      9.000000             0.000000  \n",
       "25%                29.900000  14943.000000             0.000000  \n",
       "50%                49.900000  31185.000000             0.000000  \n",
       "75%                79.900000  38924.000000             1.000000  \n",
       "max               999.000000  48241.000000             1.000000  "
      ]
     },
     "execution_count": 15,
     "metadata": {},
     "output_type": "execute_result"
    }
   ],
   "source": [
    "data.describe()"
   ]
  },
  {
   "cell_type": "code",
   "execution_count": 16,
   "metadata": {},
   "outputs": [
    {
     "data": {
      "text/plain": [
       "0    40505\n",
       "1    34495\n",
       "Name: Order_Repeat_Chance, dtype: int64"
      ]
     },
     "execution_count": 16,
     "metadata": {},
     "output_type": "execute_result"
    }
   ],
   "source": [
    "data.Order_Repeat_Chance.value_counts()"
   ]
  },
  {
   "cell_type": "code",
   "execution_count": 17,
   "metadata": {},
   "outputs": [
    {
     "name": "stdout",
     "output_type": "stream",
     "text": [
      "<class 'pandas.core.frame.DataFrame'>\n",
      "RangeIndex: 75000 entries, 0 to 74999\n",
      "Data columns (total 14 columns):\n",
      " #   Column                      Non-Null Count  Dtype  \n",
      "---  ------                      --------------  -----  \n",
      " 0   Order_Ref_Number            75000 non-null  int64  \n",
      " 1   Order_Placed_AT             75000 non-null  object \n",
      " 2   Order_Delivered_Date        67979 non-null  object \n",
      " 3   Product_Ref_ID              75000 non-null  int64  \n",
      " 4   Size                        75000 non-null  object \n",
      " 5   Color_Code                  75000 non-null  object \n",
      " 6   Product_Category_Reference  75000 non-null  int64  \n",
      " 7   Cost_to_Customer(USD)       75000 non-null  float64\n",
      " 8   Customer_ID                 75000 non-null  int64  \n",
      " 9   Gender                      75000 non-null  object \n",
      " 10  Customer_BirthDate          68445 non-null  object \n",
      " 11  Customer_Location           75000 non-null  object \n",
      " 12  Customer_Joining_Date       75000 non-null  object \n",
      " 13  Order_Repeat_Chance         75000 non-null  int64  \n",
      "dtypes: float64(1), int64(5), object(8)\n",
      "memory usage: 8.0+ MB\n"
     ]
    }
   ],
   "source": [
    "data.info()"
   ]
  },
  {
   "cell_type": "markdown",
   "metadata": {},
   "source": [
    "## checking null value in data"
   ]
  },
  {
   "cell_type": "code",
   "execution_count": 18,
   "metadata": {},
   "outputs": [
    {
     "data": {
      "text/plain": [
       "Order_Ref_Number                 0\n",
       "Order_Placed_AT                  0\n",
       "Order_Delivered_Date          7021\n",
       "Product_Ref_ID                   0\n",
       "Size                             0\n",
       "Color_Code                       0\n",
       "Product_Category_Reference       0\n",
       "Cost_to_Customer(USD)            0\n",
       "Customer_ID                      0\n",
       "Gender                           0\n",
       "Customer_BirthDate            6555\n",
       "Customer_Location                0\n",
       "Customer_Joining_Date            0\n",
       "Order_Repeat_Chance              0\n",
       "dtype: int64"
      ]
     },
     "execution_count": 18,
     "metadata": {},
     "output_type": "execute_result"
    }
   ],
   "source": [
    "data.isnull().sum()"
   ]
  },
  {
   "cell_type": "code",
   "execution_count": 19,
   "metadata": {},
   "outputs": [],
   "source": [
    "# data.Color_Code.value_counts()"
   ]
  },
  {
   "cell_type": "code",
   "execution_count": 20,
   "metadata": {},
   "outputs": [],
   "source": [
    "data.Color_Code = data.Color_Code.replace({'?':\"black\"})"
   ]
  },
  {
   "cell_type": "markdown",
   "metadata": {},
   "source": [
    "## cleaning Gender column"
   ]
  },
  {
   "cell_type": "code",
   "execution_count": 24,
   "metadata": {},
   "outputs": [
    {
     "data": {
      "text/plain": [
       "Mrs             71614\n",
       "Mr               2903\n",
       "Family            307\n",
       "Company            88\n",
       "not reported       88\n",
       "Name: Gender, dtype: int64"
      ]
     },
     "execution_count": 24,
     "metadata": {},
     "output_type": "execute_result"
    }
   ],
   "source": [
    "data.Gender.value_counts()"
   ]
  },
  {
   "cell_type": "code",
   "execution_count": 25,
   "metadata": {},
   "outputs": [
    {
     "data": {
      "text/plain": [
       "(75000, 14)"
      ]
     },
     "execution_count": 25,
     "metadata": {},
     "output_type": "execute_result"
    }
   ],
   "source": [
    "data.shape"
   ]
  },
  {
   "cell_type": "code",
   "execution_count": 26,
   "metadata": {},
   "outputs": [],
   "source": [
    "data.Gender.replace({\"Family\":\"Mr\"}, inplace=True)\n",
    "data.Gender.replace({\"Company\":\"Mr\"}, inplace=True)\n",
    "data.Gender.replace({\"not reported\":\"Mr\"},inplace = True)"
   ]
  },
  {
   "cell_type": "code",
   "execution_count": 27,
   "metadata": {},
   "outputs": [
    {
     "data": {
      "text/plain": [
       "Mrs    71614\n",
       "Mr      3386\n",
       "Name: Gender, dtype: int64"
      ]
     },
     "execution_count": 27,
     "metadata": {},
     "output_type": "execute_result"
    }
   ],
   "source": [
    "data.Gender.value_counts()"
   ]
  },
  {
   "cell_type": "code",
   "execution_count": null,
   "metadata": {},
   "outputs": [],
   "source": []
  },
  {
   "cell_type": "markdown",
   "metadata": {},
   "source": [
    "## cleaning Size chart"
   ]
  },
  {
   "cell_type": "code",
   "execution_count": 311,
   "metadata": {},
   "outputs": [],
   "source": [
    "data.Size = data.Size.str.replace(\"+\",\"\")"
   ]
  },
  {
   "cell_type": "code",
   "execution_count": 312,
   "metadata": {},
   "outputs": [],
   "source": [
    "data.Size = data.Size.replace({\"xs\":38})\n",
    "data.Size = data.Size.replace({\"s\":39})\n",
    "data.Size = data.Size.replace({\"m\":41})\n",
    "data.Size = data.Size.replace({\"l\":42})\n",
    "data.Size = data.Size.replace({\"xl\":44})\n",
    "data.Size = data.Size.replace({\"xxl\":46})\n",
    "data.Size = data.Size.replace({\"xxxl\":48})\n",
    "data.Size = data.Size.replace({\"unsized\":42})"
   ]
  },
  {
   "cell_type": "code",
   "execution_count": 313,
   "metadata": {},
   "outputs": [],
   "source": [
    "data.Size  = data.Size.astype(\"int\")"
   ]
  },
  {
   "cell_type": "markdown",
   "metadata": {},
   "source": [
    "##  droping inseginificant columns"
   ]
  },
  {
   "cell_type": "code",
   "execution_count": 314,
   "metadata": {},
   "outputs": [
    {
     "data": {
      "text/html": [
       "<div>\n",
       "<style scoped>\n",
       "    .dataframe tbody tr th:only-of-type {\n",
       "        vertical-align: middle;\n",
       "    }\n",
       "\n",
       "    .dataframe tbody tr th {\n",
       "        vertical-align: top;\n",
       "    }\n",
       "\n",
       "    .dataframe thead th {\n",
       "        text-align: right;\n",
       "    }\n",
       "</style>\n",
       "<table border=\"1\" class=\"dataframe\">\n",
       "  <thead>\n",
       "    <tr style=\"text-align: right;\">\n",
       "      <th></th>\n",
       "      <th>Order_Ref_Number</th>\n",
       "      <th>Order_Placed_AT</th>\n",
       "      <th>Order_Delivered_Date</th>\n",
       "      <th>Product_Ref_ID</th>\n",
       "      <th>Size</th>\n",
       "      <th>Color_Code</th>\n",
       "      <th>Product_Category_Reference</th>\n",
       "      <th>Cost_to_Customer(USD)</th>\n",
       "      <th>Customer_ID</th>\n",
       "      <th>Gender</th>\n",
       "      <th>Customer_BirthDate</th>\n",
       "      <th>Customer_Location</th>\n",
       "      <th>Customer_Joining_Date</th>\n",
       "      <th>Order_Repeat_Chance</th>\n",
       "    </tr>\n",
       "  </thead>\n",
       "  <tbody>\n",
       "    <tr>\n",
       "      <th>0</th>\n",
       "      <td>98981</td>\n",
       "      <td>2016-09-10</td>\n",
       "      <td>2016-09-11</td>\n",
       "      <td>897</td>\n",
       "      <td>42</td>\n",
       "      <td>grey</td>\n",
       "      <td>33</td>\n",
       "      <td>19.9</td>\n",
       "      <td>48040</td>\n",
       "      <td>Mrs</td>\n",
       "      <td>1960-05-30</td>\n",
       "      <td>Hamburg</td>\n",
       "      <td>2015-02-17</td>\n",
       "      <td>0</td>\n",
       "    </tr>\n",
       "    <tr>\n",
       "      <th>1</th>\n",
       "      <td>69825</td>\n",
       "      <td>2016-08-15</td>\n",
       "      <td>2016-08-20</td>\n",
       "      <td>1557</td>\n",
       "      <td>44</td>\n",
       "      <td>petrol</td>\n",
       "      <td>31</td>\n",
       "      <td>89.9</td>\n",
       "      <td>42892</td>\n",
       "      <td>Mrs</td>\n",
       "      <td>1958-09-23</td>\n",
       "      <td>Lower Saxony</td>\n",
       "      <td>2015-11-14</td>\n",
       "      <td>1</td>\n",
       "    </tr>\n",
       "    <tr>\n",
       "      <th>2</th>\n",
       "      <td>9929</td>\n",
       "      <td>2016-06-27</td>\n",
       "      <td>2016-07-02</td>\n",
       "      <td>292</td>\n",
       "      <td>4</td>\n",
       "      <td>grey</td>\n",
       "      <td>4</td>\n",
       "      <td>64.9</td>\n",
       "      <td>32479</td>\n",
       "      <td>Mrs</td>\n",
       "      <td>1961-09-19</td>\n",
       "      <td>Hesse</td>\n",
       "      <td>2016-06-28</td>\n",
       "      <td>0</td>\n",
       "    </tr>\n",
       "    <tr>\n",
       "      <th>3</th>\n",
       "      <td>75600</td>\n",
       "      <td>2016-08-21</td>\n",
       "      <td>2016-08-22</td>\n",
       "      <td>1445</td>\n",
       "      <td>46</td>\n",
       "      <td>grey</td>\n",
       "      <td>29</td>\n",
       "      <td>59.9</td>\n",
       "      <td>4216</td>\n",
       "      <td>Mrs</td>\n",
       "      <td>1952-10-01</td>\n",
       "      <td>Lower Saxony</td>\n",
       "      <td>2015-02-17</td>\n",
       "      <td>0</td>\n",
       "    </tr>\n",
       "    <tr>\n",
       "      <th>4</th>\n",
       "      <td>95622</td>\n",
       "      <td>2016-09-06</td>\n",
       "      <td>2016-09-07</td>\n",
       "      <td>1415</td>\n",
       "      <td>41</td>\n",
       "      <td>mahagoni</td>\n",
       "      <td>3</td>\n",
       "      <td>21.9</td>\n",
       "      <td>39571</td>\n",
       "      <td>Mrs</td>\n",
       "      <td>1963-10-30</td>\n",
       "      <td>North Rhine-Westphalia</td>\n",
       "      <td>2015-10-02</td>\n",
       "      <td>0</td>\n",
       "    </tr>\n",
       "  </tbody>\n",
       "</table>\n",
       "</div>"
      ],
      "text/plain": [
       "   Order_Ref_Number Order_Placed_AT Order_Delivered_Date  Product_Ref_ID  \\\n",
       "0             98981      2016-09-10           2016-09-11             897   \n",
       "1             69825      2016-08-15           2016-08-20            1557   \n",
       "2              9929      2016-06-27           2016-07-02             292   \n",
       "3             75600      2016-08-21           2016-08-22            1445   \n",
       "4             95622      2016-09-06           2016-09-07            1415   \n",
       "\n",
       "   Size Color_Code  Product_Category_Reference  Cost_to_Customer(USD)  \\\n",
       "0    42       grey                          33                   19.9   \n",
       "1    44     petrol                          31                   89.9   \n",
       "2     4       grey                           4                   64.9   \n",
       "3    46       grey                          29                   59.9   \n",
       "4    41   mahagoni                           3                   21.9   \n",
       "\n",
       "   Customer_ID Gender Customer_BirthDate       Customer_Location  \\\n",
       "0        48040    Mrs         1960-05-30                 Hamburg   \n",
       "1        42892    Mrs         1958-09-23            Lower Saxony   \n",
       "2        32479    Mrs         1961-09-19                   Hesse   \n",
       "3         4216    Mrs         1952-10-01            Lower Saxony   \n",
       "4        39571    Mrs         1963-10-30  North Rhine-Westphalia   \n",
       "\n",
       "  Customer_Joining_Date  Order_Repeat_Chance  \n",
       "0            2015-02-17                    0  \n",
       "1            2015-11-14                    1  \n",
       "2            2016-06-28                    0  \n",
       "3            2015-02-17                    0  \n",
       "4            2015-10-02                    0  "
      ]
     },
     "execution_count": 314,
     "metadata": {},
     "output_type": "execute_result"
    }
   ],
   "source": [
    "data.head()"
   ]
  },
  {
   "cell_type": "code",
   "execution_count": 315,
   "metadata": {},
   "outputs": [],
   "source": [
    "train=data.drop({\"Order_Ref_Number\", \"Product_Ref_ID\" , \"Customer_BirthDate\",\"Customer_Joining_Date\",\"Order_Placed_AT\" ,\"Order_Delivered_Date\"}, axis = 1)"
   ]
  },
  {
   "cell_type": "code",
   "execution_count": 316,
   "metadata": {},
   "outputs": [],
   "source": [
    "train[\"or_Month\"] = pd.to_datetime(data[\"Order_Placed_AT\"]).dt.month\n",
    "\n",
    "train[\"or_Day\"] = pd.to_datetime(data[\"Order_Placed_AT\"]).dt.day\n",
    "\n",
    "train[\"del_Month\"] = pd.to_datetime(data[\"Order_Delivered_Date\"]).dt.month\n",
    "\n",
    "train[\"del_Day\"] = pd.to_datetime(data[\"Order_Delivered_Date\"]).dt.day"
   ]
  },
  {
   "cell_type": "code",
   "execution_count": 317,
   "metadata": {},
   "outputs": [],
   "source": [
    "train[\"del_Day\"] = train[\"del_Day\"].fillna(train[\"del_Day\"].median())\n",
    "train[\"del_Month\"] = train[\"del_Month\"].fillna(train[\"del_Month\"].median())"
   ]
  },
  {
   "cell_type": "code",
   "execution_count": 318,
   "metadata": {},
   "outputs": [
    {
     "data": {
      "text/plain": [
       "Size                          0\n",
       "Color_Code                    0\n",
       "Product_Category_Reference    0\n",
       "Cost_to_Customer(USD)         0\n",
       "Customer_ID                   0\n",
       "Gender                        0\n",
       "Customer_Location             0\n",
       "Order_Repeat_Chance           0\n",
       "or_Month                      0\n",
       "or_Day                        0\n",
       "del_Month                     0\n",
       "del_Day                       0\n",
       "dtype: int64"
      ]
     },
     "execution_count": 318,
     "metadata": {},
     "output_type": "execute_result"
    }
   ],
   "source": [
    "train.isnull().sum()"
   ]
  },
  {
   "cell_type": "code",
   "execution_count": 319,
   "metadata": {},
   "outputs": [
    {
     "data": {
      "text/html": [
       "<div>\n",
       "<style scoped>\n",
       "    .dataframe tbody tr th:only-of-type {\n",
       "        vertical-align: middle;\n",
       "    }\n",
       "\n",
       "    .dataframe tbody tr th {\n",
       "        vertical-align: top;\n",
       "    }\n",
       "\n",
       "    .dataframe thead th {\n",
       "        text-align: right;\n",
       "    }\n",
       "</style>\n",
       "<table border=\"1\" class=\"dataframe\">\n",
       "  <thead>\n",
       "    <tr style=\"text-align: right;\">\n",
       "      <th></th>\n",
       "      <th>Size</th>\n",
       "      <th>Color_Code</th>\n",
       "      <th>Product_Category_Reference</th>\n",
       "      <th>Cost_to_Customer(USD)</th>\n",
       "      <th>Customer_ID</th>\n",
       "      <th>Gender</th>\n",
       "      <th>Customer_Location</th>\n",
       "      <th>Order_Repeat_Chance</th>\n",
       "      <th>or_Month</th>\n",
       "      <th>or_Day</th>\n",
       "      <th>del_Month</th>\n",
       "      <th>del_Day</th>\n",
       "    </tr>\n",
       "  </thead>\n",
       "  <tbody>\n",
       "    <tr>\n",
       "      <th>0</th>\n",
       "      <td>42</td>\n",
       "      <td>grey</td>\n",
       "      <td>33</td>\n",
       "      <td>19.9</td>\n",
       "      <td>48040</td>\n",
       "      <td>Mrs</td>\n",
       "      <td>Hamburg</td>\n",
       "      <td>0</td>\n",
       "      <td>9</td>\n",
       "      <td>10</td>\n",
       "      <td>9.0</td>\n",
       "      <td>11.0</td>\n",
       "    </tr>\n",
       "    <tr>\n",
       "      <th>1</th>\n",
       "      <td>44</td>\n",
       "      <td>petrol</td>\n",
       "      <td>31</td>\n",
       "      <td>89.9</td>\n",
       "      <td>42892</td>\n",
       "      <td>Mrs</td>\n",
       "      <td>Lower Saxony</td>\n",
       "      <td>1</td>\n",
       "      <td>8</td>\n",
       "      <td>15</td>\n",
       "      <td>8.0</td>\n",
       "      <td>20.0</td>\n",
       "    </tr>\n",
       "    <tr>\n",
       "      <th>2</th>\n",
       "      <td>4</td>\n",
       "      <td>grey</td>\n",
       "      <td>4</td>\n",
       "      <td>64.9</td>\n",
       "      <td>32479</td>\n",
       "      <td>Mrs</td>\n",
       "      <td>Hesse</td>\n",
       "      <td>0</td>\n",
       "      <td>6</td>\n",
       "      <td>27</td>\n",
       "      <td>7.0</td>\n",
       "      <td>2.0</td>\n",
       "    </tr>\n",
       "    <tr>\n",
       "      <th>3</th>\n",
       "      <td>46</td>\n",
       "      <td>grey</td>\n",
       "      <td>29</td>\n",
       "      <td>59.9</td>\n",
       "      <td>4216</td>\n",
       "      <td>Mrs</td>\n",
       "      <td>Lower Saxony</td>\n",
       "      <td>0</td>\n",
       "      <td>8</td>\n",
       "      <td>21</td>\n",
       "      <td>8.0</td>\n",
       "      <td>22.0</td>\n",
       "    </tr>\n",
       "    <tr>\n",
       "      <th>4</th>\n",
       "      <td>41</td>\n",
       "      <td>mahagoni</td>\n",
       "      <td>3</td>\n",
       "      <td>21.9</td>\n",
       "      <td>39571</td>\n",
       "      <td>Mrs</td>\n",
       "      <td>North Rhine-Westphalia</td>\n",
       "      <td>0</td>\n",
       "      <td>9</td>\n",
       "      <td>6</td>\n",
       "      <td>9.0</td>\n",
       "      <td>7.0</td>\n",
       "    </tr>\n",
       "  </tbody>\n",
       "</table>\n",
       "</div>"
      ],
      "text/plain": [
       "   Size Color_Code  Product_Category_Reference  Cost_to_Customer(USD)  \\\n",
       "0    42       grey                          33                   19.9   \n",
       "1    44     petrol                          31                   89.9   \n",
       "2     4       grey                           4                   64.9   \n",
       "3    46       grey                          29                   59.9   \n",
       "4    41   mahagoni                           3                   21.9   \n",
       "\n",
       "   Customer_ID Gender       Customer_Location  Order_Repeat_Chance  or_Month  \\\n",
       "0        48040    Mrs                 Hamburg                    0         9   \n",
       "1        42892    Mrs            Lower Saxony                    1         8   \n",
       "2        32479    Mrs                   Hesse                    0         6   \n",
       "3         4216    Mrs            Lower Saxony                    0         8   \n",
       "4        39571    Mrs  North Rhine-Westphalia                    0         9   \n",
       "\n",
       "   or_Day  del_Month  del_Day  \n",
       "0      10        9.0     11.0  \n",
       "1      15        8.0     20.0  \n",
       "2      27        7.0      2.0  \n",
       "3      21        8.0     22.0  \n",
       "4       6        9.0      7.0  "
      ]
     },
     "execution_count": 319,
     "metadata": {},
     "output_type": "execute_result"
    }
   ],
   "source": [
    "train.head()"
   ]
  },
  {
   "cell_type": "markdown",
   "metadata": {},
   "source": [
    "## outlier check and remove"
   ]
  },
  {
   "cell_type": "code",
   "execution_count": 320,
   "metadata": {},
   "outputs": [
    {
     "data": {
      "image/png": "[encoded data removed]",
      "text/plain": [
       "<Figure size 432x288 with 1 Axes>"
      ]
     },
     "metadata": {
      "needs_background": "light"
     },
     "output_type": "display_data"
    }
   ],
   "source": [
    "plt.boxplot(train[\"Product_Category_Reference\"])\n",
    "plt.show()"
   ]
  },
  {
   "cell_type": "code",
   "execution_count": 321,
   "metadata": {},
   "outputs": [
    {
     "name": "stdout",
     "output_type": "stream",
     "text": [
      "3.0\n",
      "69.0\n"
     ]
    }
   ],
   "source": [
    "print(train['Product_Category_Reference'].quantile(0.10))\n",
    "print(train['Product_Category_Reference'].quantile(0.90))"
   ]
  },
  {
   "cell_type": "code",
   "execution_count": 322,
   "metadata": {},
   "outputs": [],
   "source": [
    "train[\"Product_Category_Reference\"] = np.where(train[\"Product_Category_Reference\"] <3.0, 3.0,train[\"Product_Category_Reference\"])\n",
    "train[\"Product_Category_Reference\"] = np.where(train[\"Product_Category_Reference\"] >69.0, 69.0,train[\"Product_Category_Reference\"])"
   ]
  },
  {
   "cell_type": "code",
   "execution_count": 323,
   "metadata": {},
   "outputs": [],
   "source": [
    "# index = train[(train['Product_Category_Reference'] >= 100)].index\n",
    "# train.drop(index, inplace=True) \n",
    "# train['Product_Category_Reference'].describe()"
   ]
  },
  {
   "cell_type": "code",
   "execution_count": 324,
   "metadata": {},
   "outputs": [
    {
     "data": {
      "image/png": "[encoded data removed]",
      "text/plain": [
       "<Figure size 432x288 with 1 Axes>"
      ]
     },
     "metadata": {
      "needs_background": "light"
     },
     "output_type": "display_data"
    }
   ],
   "source": [
    "plt.boxplot(train[\"Cost_to_Customer(USD)\"])\n",
    "plt.show()"
   ]
  },
  {
   "cell_type": "code",
   "execution_count": 325,
   "metadata": {},
   "outputs": [
    {
     "name": "stdout",
     "output_type": "stream",
     "text": [
      "19.9\n",
      "134.9\n"
     ]
    }
   ],
   "source": [
    "print(train['Cost_to_Customer(USD)'].quantile(0.10))\n",
    "print(train['Cost_to_Customer(USD)'].quantile(0.90))"
   ]
  },
  {
   "cell_type": "code",
   "execution_count": 326,
   "metadata": {},
   "outputs": [],
   "source": [
    "train[\"Cost_to_Customer(USD)\"] = np.where(train[\"Cost_to_Customer(USD)\"] <19.9, 19.9,train[\"Cost_to_Customer(USD)\"])\n",
    "train[\"Cost_to_Customer(USD)\"] = np.where(train[\"Cost_to_Customer(USD)\"] >134.9, 134.9,train[\"Cost_to_Customer(USD)\"])"
   ]
  },
  {
   "cell_type": "code",
   "execution_count": 327,
   "metadata": {},
   "outputs": [],
   "source": [
    "# index = train[(train['Cost_to_Customer(USD)'] >= 130)].index\n",
    "# train.drop(index, inplace=True) \n",
    "# train['Cost_to_Customer(USD)'].describe()"
   ]
  },
  {
   "cell_type": "code",
   "execution_count": 328,
   "metadata": {},
   "outputs": [],
   "source": [
    "# index = train[(train['Size'] >= 50) | (train['Size'] <=32)].index\n",
    "# train.drop(index, inplace=True) \n",
    "# train['Size'].describe()"
   ]
  },
  {
   "cell_type": "code",
   "execution_count": 329,
   "metadata": {},
   "outputs": [
    {
     "data": {
      "image/png": "[encoded data removed]",
      "text/plain": [
       "<Figure size 432x288 with 1 Axes>"
      ]
     },
     "metadata": {
      "needs_background": "light"
     },
     "output_type": "display_data"
    }
   ],
   "source": [
    "plt.boxplot(train[\"Size\"])\n",
    "plt.show()"
   ]
  },
  {
   "cell_type": "code",
   "execution_count": 330,
   "metadata": {},
   "outputs": [
    {
     "name": "stdout",
     "output_type": "stream",
     "text": [
      "37.0\n",
      "46.0\n"
     ]
    }
   ],
   "source": [
    "print(train['Size'].quantile(0.10))\n",
    "print(train['Size'].quantile(0.90))"
   ]
  },
  {
   "cell_type": "code",
   "execution_count": 331,
   "metadata": {},
   "outputs": [],
   "source": [
    "train[\"Size\"] = np.where(train[\"Size\"] <37.0, 37.0,train[\"Size\"])\n",
    "train[\"Size\"] = np.where(train[\"Size\"] >46.0, 46.0,train[\"Size\"])"
   ]
  },
  {
   "cell_type": "code",
   "execution_count": 332,
   "metadata": {},
   "outputs": [
    {
     "data": {
      "text/plain": [
       "Size                          0\n",
       "Color_Code                    0\n",
       "Product_Category_Reference    0\n",
       "Cost_to_Customer(USD)         0\n",
       "Customer_ID                   0\n",
       "Gender                        0\n",
       "Customer_Location             0\n",
       "Order_Repeat_Chance           0\n",
       "or_Month                      0\n",
       "or_Day                        0\n",
       "del_Month                     0\n",
       "del_Day                       0\n",
       "dtype: int64"
      ]
     },
     "execution_count": 332,
     "metadata": {},
     "output_type": "execute_result"
    }
   ],
   "source": [
    "train.isnull().sum()"
   ]
  },
  {
   "cell_type": "code",
   "execution_count": 333,
   "metadata": {},
   "outputs": [
    {
     "data": {
      "text/plain": [
       "(75000, 12)"
      ]
     },
     "execution_count": 333,
     "metadata": {},
     "output_type": "execute_result"
    }
   ],
   "source": [
    "train.shape"
   ]
  },
  {
   "cell_type": "code",
   "execution_count": 334,
   "metadata": {},
   "outputs": [
    {
     "data": {
      "text/plain": [
       "<AxesSubplot:>"
      ]
     },
     "execution_count": 334,
     "metadata": {},
     "output_type": "execute_result"
    },
    {
     "data": {
      "image/png": "[encoded data removed]",
      "text/plain": [
       "<Figure size 720x720 with 2 Axes>"
      ]
     },
     "metadata": {
      "needs_background": "light"
     },
     "output_type": "display_data"
    }
   ],
   "source": [
    "plt.figure(figsize=(10,10))\n",
    "sns.heatmap(train.corr(),annot= True )"
   ]
  },
  {
   "cell_type": "markdown",
   "metadata": {},
   "source": [
    "## label encoding"
   ]
  },
  {
   "cell_type": "code",
   "execution_count": 335,
   "metadata": {},
   "outputs": [],
   "source": [
    "train[\"Cost_to_Customer(USD)\"] = train[\"Cost_to_Customer(USD)\"].astype(int)"
   ]
  },
  {
   "cell_type": "code",
   "execution_count": 336,
   "metadata": {},
   "outputs": [
    {
     "data": {
      "text/html": [
       "<div>\n",
       "<style scoped>\n",
       "    .dataframe tbody tr th:only-of-type {\n",
       "        vertical-align: middle;\n",
       "    }\n",
       "\n",
       "    .dataframe tbody tr th {\n",
       "        vertical-align: top;\n",
       "    }\n",
       "\n",
       "    .dataframe thead th {\n",
       "        text-align: right;\n",
       "    }\n",
       "</style>\n",
       "<table border=\"1\" class=\"dataframe\">\n",
       "  <thead>\n",
       "    <tr style=\"text-align: right;\">\n",
       "      <th></th>\n",
       "      <th>Size</th>\n",
       "      <th>Color_Code</th>\n",
       "      <th>Product_Category_Reference</th>\n",
       "      <th>Cost_to_Customer(USD)</th>\n",
       "      <th>Customer_ID</th>\n",
       "      <th>Gender</th>\n",
       "      <th>Customer_Location</th>\n",
       "      <th>Order_Repeat_Chance</th>\n",
       "      <th>or_Month</th>\n",
       "      <th>or_Day</th>\n",
       "      <th>del_Month</th>\n",
       "      <th>del_Day</th>\n",
       "    </tr>\n",
       "  </thead>\n",
       "  <tbody>\n",
       "    <tr>\n",
       "      <th>0</th>\n",
       "      <td>42.0</td>\n",
       "      <td>grey</td>\n",
       "      <td>33.0</td>\n",
       "      <td>19</td>\n",
       "      <td>48040</td>\n",
       "      <td>Mrs</td>\n",
       "      <td>Hamburg</td>\n",
       "      <td>0</td>\n",
       "      <td>9</td>\n",
       "      <td>10</td>\n",
       "      <td>9.0</td>\n",
       "      <td>11.0</td>\n",
       "    </tr>\n",
       "    <tr>\n",
       "      <th>1</th>\n",
       "      <td>44.0</td>\n",
       "      <td>petrol</td>\n",
       "      <td>31.0</td>\n",
       "      <td>89</td>\n",
       "      <td>42892</td>\n",
       "      <td>Mrs</td>\n",
       "      <td>Lower Saxony</td>\n",
       "      <td>1</td>\n",
       "      <td>8</td>\n",
       "      <td>15</td>\n",
       "      <td>8.0</td>\n",
       "      <td>20.0</td>\n",
       "    </tr>\n",
       "    <tr>\n",
       "      <th>2</th>\n",
       "      <td>37.0</td>\n",
       "      <td>grey</td>\n",
       "      <td>4.0</td>\n",
       "      <td>64</td>\n",
       "      <td>32479</td>\n",
       "      <td>Mrs</td>\n",
       "      <td>Hesse</td>\n",
       "      <td>0</td>\n",
       "      <td>6</td>\n",
       "      <td>27</td>\n",
       "      <td>7.0</td>\n",
       "      <td>2.0</td>\n",
       "    </tr>\n",
       "    <tr>\n",
       "      <th>3</th>\n",
       "      <td>46.0</td>\n",
       "      <td>grey</td>\n",
       "      <td>29.0</td>\n",
       "      <td>59</td>\n",
       "      <td>4216</td>\n",
       "      <td>Mrs</td>\n",
       "      <td>Lower Saxony</td>\n",
       "      <td>0</td>\n",
       "      <td>8</td>\n",
       "      <td>21</td>\n",
       "      <td>8.0</td>\n",
       "      <td>22.0</td>\n",
       "    </tr>\n",
       "    <tr>\n",
       "      <th>4</th>\n",
       "      <td>41.0</td>\n",
       "      <td>mahagoni</td>\n",
       "      <td>3.0</td>\n",
       "      <td>21</td>\n",
       "      <td>39571</td>\n",
       "      <td>Mrs</td>\n",
       "      <td>North Rhine-Westphalia</td>\n",
       "      <td>0</td>\n",
       "      <td>9</td>\n",
       "      <td>6</td>\n",
       "      <td>9.0</td>\n",
       "      <td>7.0</td>\n",
       "    </tr>\n",
       "  </tbody>\n",
       "</table>\n",
       "</div>"
      ],
      "text/plain": [
       "   Size Color_Code  Product_Category_Reference  Cost_to_Customer(USD)  \\\n",
       "0  42.0       grey                        33.0                     19   \n",
       "1  44.0     petrol                        31.0                     89   \n",
       "2  37.0       grey                         4.0                     64   \n",
       "3  46.0       grey                        29.0                     59   \n",
       "4  41.0   mahagoni                         3.0                     21   \n",
       "\n",
       "   Customer_ID Gender       Customer_Location  Order_Repeat_Chance  or_Month  \\\n",
       "0        48040    Mrs                 Hamburg                    0         9   \n",
       "1        42892    Mrs            Lower Saxony                    1         8   \n",
       "2        32479    Mrs                   Hesse                    0         6   \n",
       "3         4216    Mrs            Lower Saxony                    0         8   \n",
       "4        39571    Mrs  North Rhine-Westphalia                    0         9   \n",
       "\n",
       "   or_Day  del_Month  del_Day  \n",
       "0      10        9.0     11.0  \n",
       "1      15        8.0     20.0  \n",
       "2      27        7.0      2.0  \n",
       "3      21        8.0     22.0  \n",
       "4       6        9.0      7.0  "
      ]
     },
     "execution_count": 336,
     "metadata": {},
     "output_type": "execute_result"
    }
   ],
   "source": [
    "train.head()"
   ]
  },
  {
   "cell_type": "code",
   "execution_count": 337,
   "metadata": {},
   "outputs": [],
   "source": [
    "from sklearn.preprocessing import LabelEncoder\n",
    "le=LabelEncoder()"
   ]
  },
  {
   "cell_type": "code",
   "execution_count": 338,
   "metadata": {},
   "outputs": [
    {
     "name": "stdout",
     "output_type": "stream",
     "text": [
      "<class 'pandas.core.frame.DataFrame'>\n",
      "RangeIndex: 75000 entries, 0 to 74999\n",
      "Data columns (total 12 columns):\n",
      " #   Column                      Non-Null Count  Dtype  \n",
      "---  ------                      --------------  -----  \n",
      " 0   Size                        75000 non-null  float64\n",
      " 1   Color_Code                  75000 non-null  object \n",
      " 2   Product_Category_Reference  75000 non-null  float64\n",
      " 3   Cost_to_Customer(USD)       75000 non-null  int32  \n",
      " 4   Customer_ID                 75000 non-null  int64  \n",
      " 5   Gender                      75000 non-null  object \n",
      " 6   Customer_Location           75000 non-null  object \n",
      " 7   Order_Repeat_Chance         75000 non-null  int64  \n",
      " 8   or_Month                    75000 non-null  int64  \n",
      " 9   or_Day                      75000 non-null  int64  \n",
      " 10  del_Month                   75000 non-null  float64\n",
      " 11  del_Day                     75000 non-null  float64\n",
      "dtypes: float64(4), int32(1), int64(4), object(3)\n",
      "memory usage: 6.6+ MB\n"
     ]
    }
   ],
   "source": [
    "train.info()"
   ]
  },
  {
   "cell_type": "code",
   "execution_count": 339,
   "metadata": {},
   "outputs": [],
   "source": [
    "train[train.select_dtypes(include=['object']).columns] = train[train.select_dtypes(include=['object']).columns].apply(le.fit_transform)"
   ]
  },
  {
   "cell_type": "code",
   "execution_count": 340,
   "metadata": {},
   "outputs": [
    {
     "name": "stdout",
     "output_type": "stream",
     "text": [
      "<class 'pandas.core.frame.DataFrame'>\n",
      "RangeIndex: 75000 entries, 0 to 74999\n",
      "Data columns (total 12 columns):\n",
      " #   Column                      Non-Null Count  Dtype  \n",
      "---  ------                      --------------  -----  \n",
      " 0   Size                        75000 non-null  float64\n",
      " 1   Color_Code                  75000 non-null  int32  \n",
      " 2   Product_Category_Reference  75000 non-null  float64\n",
      " 3   Cost_to_Customer(USD)       75000 non-null  int32  \n",
      " 4   Customer_ID                 75000 non-null  int64  \n",
      " 5   Gender                      75000 non-null  int32  \n",
      " 6   Customer_Location           75000 non-null  int32  \n",
      " 7   Order_Repeat_Chance         75000 non-null  int64  \n",
      " 8   or_Month                    75000 non-null  int64  \n",
      " 9   or_Day                      75000 non-null  int64  \n",
      " 10  del_Month                   75000 non-null  float64\n",
      " 11  del_Day                     75000 non-null  float64\n",
      "dtypes: float64(4), int32(4), int64(4)\n",
      "memory usage: 5.7 MB\n"
     ]
    }
   ],
   "source": [
    "train.info()"
   ]
  },
  {
   "cell_type": "markdown",
   "metadata": {},
   "source": [
    "## Sampling"
   ]
  },
  {
   "cell_type": "code",
   "execution_count": 341,
   "metadata": {},
   "outputs": [],
   "source": [
    "X = train.drop([\"Order_Repeat_Chance\", \"Customer_Location\"],axis=True)\n",
    "Y = train[['Order_Repeat_Chance']]"
   ]
  },
  {
   "cell_type": "code",
   "execution_count": 342,
   "metadata": {},
   "outputs": [
    {
     "name": "stdout",
     "output_type": "stream",
     "text": [
      "(60000, 10)\n",
      "(15000, 10)\n",
      "(60000, 1)\n",
      "(15000, 1)\n"
     ]
    }
   ],
   "source": [
    "from sklearn.model_selection import train_test_split\n",
    "train_x , test_x , train_y , test_y = train_test_split( X , Y , test_size = .2 , random_state = 25)\n",
    "print(train_x.shape)\n",
    "print(test_x.shape)\n",
    "print(train_y.shape)\n",
    "print(test_y.shape)"
   ]
  },
  {
   "cell_type": "markdown",
   "metadata": {},
   "source": [
    "# Model building"
   ]
  },
  {
   "cell_type": "markdown",
   "metadata": {},
   "source": [
    "## logistic regression"
   ]
  },
  {
   "cell_type": "code",
   "execution_count": 343,
   "metadata": {},
   "outputs": [],
   "source": [
    "from sklearn.metrics import confusion_matrix\n",
    "from sklearn.metrics import accuracy_score\n",
    "from sklearn.metrics import classification_report"
   ]
  },
  {
   "cell_type": "code",
   "execution_count": 344,
   "metadata": {},
   "outputs": [],
   "source": [
    "from sklearn.linear_model import LogisticRegression\n",
    "\n",
    "logreg = LogisticRegression()"
   ]
  },
  {
   "cell_type": "code",
   "execution_count": 345,
   "metadata": {},
   "outputs": [],
   "source": [
    "model = logreg.fit(train_x, train_y)\n",
    "#print(\"Model Fitted Successfully!!!\")"
   ]
  },
  {
   "cell_type": "code",
   "execution_count": 346,
   "metadata": {},
   "outputs": [],
   "source": [
    "pred_lr = model.predict(test_x)"
   ]
  },
  {
   "cell_type": "code",
   "execution_count": 347,
   "metadata": {},
   "outputs": [
    {
     "name": "stdout",
     "output_type": "stream",
     "text": [
      "Confusion Matrix:\n",
      " [[6358 4801]\n",
      " [1721 2120]]\n",
      "\n",
      "Accuracy: 56.52%\n",
      "\n",
      "              precision    recall  f1-score   support\n",
      "\n",
      "           0       0.57      0.79      0.66      8079\n",
      "           1       0.55      0.31      0.39      6921\n",
      "\n",
      "    accuracy                           0.57     15000\n",
      "   macro avg       0.56      0.55      0.53     15000\n",
      "weighted avg       0.56      0.57      0.54     15000\n",
      "\n"
     ]
    }
   ],
   "source": [
    "tab1 = confusion_matrix(pred_lr, test_y)\n",
    "print(\"Confusion Matrix:\\n\",tab1)\n",
    "# evaluate predictions\n",
    "acc1 = (accuracy_score(test_y, pred_lr))*100\n",
    "print(\"\\nAccuracy: %.2f%%\\n\" % acc1)\n",
    "print(classification_report(test_y,pred_lr))"
   ]
  },
  {
   "cell_type": "markdown",
   "metadata": {},
   "source": [
    "## RandomForestClassifier"
   ]
  },
  {
   "cell_type": "code",
   "execution_count": 348,
   "metadata": {},
   "outputs": [],
   "source": [
    "from sklearn.ensemble import RandomForestClassifier\n",
    "rf = RandomForestClassifier()      #(max_depth=6, min_samples_split=4,n_estimators=1000)"
   ]
  },
  {
   "cell_type": "code",
   "execution_count": 349,
   "metadata": {},
   "outputs": [
    {
     "data": {
      "text/plain": [
       "RandomForestClassifier()"
      ]
     },
     "execution_count": 349,
     "metadata": {},
     "output_type": "execute_result"
    }
   ],
   "source": [
    "rf.fit(train_x , train_y)"
   ]
  },
  {
   "cell_type": "code",
   "execution_count": 350,
   "metadata": {},
   "outputs": [],
   "source": [
    "pred_rf = rf.predict(test_x)"
   ]
  },
  {
   "cell_type": "code",
   "execution_count": 351,
   "metadata": {},
   "outputs": [
    {
     "name": "stdout",
     "output_type": "stream",
     "text": [
      "Confusion Matrix:\n",
      " [[5235 2644]\n",
      " [2844 4277]]\n",
      "\n",
      "Accuracy: 63.41%\n",
      "\n",
      "              precision    recall  f1-score   support\n",
      "\n",
      "           0       0.66      0.65      0.66      8079\n",
      "           1       0.60      0.62      0.61      6921\n",
      "\n",
      "    accuracy                           0.63     15000\n",
      "   macro avg       0.63      0.63      0.63     15000\n",
      "weighted avg       0.63      0.63      0.63     15000\n",
      "\n"
     ]
    }
   ],
   "source": [
    "tab2 = confusion_matrix(pred_rf, test_y)\n",
    "print(\"Confusion Matrix:\\n\",tab2)\n",
    "# evaluate predictions\n",
    "acc2 = (accuracy_score(test_y, pred_rf))*100\n",
    "print(\"\\nAccuracy: %.2f%%\\n\" % acc2)\n",
    "print(classification_report(test_y,pred_rf))"
   ]
  },
  {
   "cell_type": "markdown",
   "metadata": {},
   "source": [
    "## xgboosting"
   ]
  },
  {
   "cell_type": "code",
   "execution_count": 352,
   "metadata": {},
   "outputs": [],
   "source": [
    "from xgboost import XGBClassifier\n",
    "xgb = XGBClassifier(n_estimators=6000,\n",
    "                           max_depth=6,\n",
    "                           learning_rate=0.04,\n",
    "                           subsample=0.9,\n",
    "                           colsample_bytree=0.35,\n",
    "                           objective = 'binary:logistic',\n",
    "                           random_state = 1\n",
    "                           )\n"
   ]
  },
  {
   "cell_type": "code",
   "execution_count": 353,
   "metadata": {},
   "outputs": [
    {
     "name": "stdout",
     "output_type": "stream",
     "text": [
      "[23:34:00] WARNING: C:/Users/Administrator/workspace/xgboost-win64_release_1.3.0/src/learner.cc:1061: Starting in XGBoost 1.3.0, the default evaluation metric used with the objective 'binary:logistic' was changed from 'error' to 'logloss'. Explicitly set eval_metric if you'd like to restore the old behavior.\n",
      "Model Fitted Successfully!!!\n"
     ]
    }
   ],
   "source": [
    "xgb.fit(train_x,train_y)\n",
    "print(\"Model Fitted Successfully!!!\")"
   ]
  },
  {
   "cell_type": "code",
   "execution_count": 354,
   "metadata": {},
   "outputs": [],
   "source": [
    "pred_xgb = xgb.predict(test_x)"
   ]
  },
  {
   "cell_type": "code",
   "execution_count": 355,
   "metadata": {},
   "outputs": [
    {
     "name": "stdout",
     "output_type": "stream",
     "text": [
      "Confusion Matrix:\n",
      " [[5337 2525]\n",
      " [2742 4396]]\n",
      "\n",
      "Accuracy: 64.89%\n",
      "\n",
      "              precision    recall  f1-score   support\n",
      "\n",
      "           0       0.68      0.66      0.67      8079\n",
      "           1       0.62      0.64      0.63      6921\n",
      "\n",
      "    accuracy                           0.65     15000\n",
      "   macro avg       0.65      0.65      0.65     15000\n",
      "weighted avg       0.65      0.65      0.65     15000\n",
      "\n"
     ]
    }
   ],
   "source": [
    "tab3 = confusion_matrix(pred_xgb, test_y)\n",
    "print(\"Confusion Matrix:\\n\",tab3)\n",
    "# evaluate predictions\n",
    "acc3 = (accuracy_score(test_y, pred_xgb))*100\n",
    "print(\"\\nAccuracy: %.2f%%\\n\" % acc3)\n",
    "print(classification_report(test_y,pred_xgb))"
   ]
  },
  {
   "cell_type": "markdown",
   "metadata": {},
   "source": [
    "## light gradient boosting"
   ]
  },
  {
   "cell_type": "code",
   "execution_count": 356,
   "metadata": {},
   "outputs": [],
   "source": [
    "from lightgbm import LGBMClassifier\n",
    "# lgbm = LGBMClassifier(\n",
    "#                            n_estimators=1000,\n",
    "#                            max_depth=10,\n",
    "#                            learning_rate=0.03,\n",
    "#                            subsample=0.9,\n",
    "#                            colsample_bytree=0.4,\n",
    "#                            objective = 'binary',\n",
    "#                            random_state = 1,\n",
    "#                            importance_type='gain',\n",
    "#                            reg_alpha=2,\n",
    "#                            reg_lambda=2\n",
    "#                            )\n",
    "lgbm = LGBMClassifier()"
   ]
  },
  {
   "cell_type": "code",
   "execution_count": 357,
   "metadata": {},
   "outputs": [
    {
     "name": "stdout",
     "output_type": "stream",
     "text": [
      "Model Fitted Successfully!!!\n"
     ]
    }
   ],
   "source": [
    "pred_lgbm = lgbm.fit(train_x,train_y)\n",
    "print(\"Model Fitted Successfully!!!\")"
   ]
  },
  {
   "cell_type": "code",
   "execution_count": 358,
   "metadata": {},
   "outputs": [],
   "source": [
    "pred_lgbm = lgbm.predict(test_x)"
   ]
  },
  {
   "cell_type": "code",
   "execution_count": 359,
   "metadata": {},
   "outputs": [
    {
     "name": "stdout",
     "output_type": "stream",
     "text": [
      "Confusion Matrix:\n",
      " [[4837 2120]\n",
      " [3242 4801]]\n",
      "\n",
      "Accuracy: 64.25%\n",
      "\n",
      "              precision    recall  f1-score   support\n",
      "\n",
      "           0       0.70      0.60      0.64      8079\n",
      "           1       0.60      0.69      0.64      6921\n",
      "\n",
      "    accuracy                           0.64     15000\n",
      "   macro avg       0.65      0.65      0.64     15000\n",
      "weighted avg       0.65      0.64      0.64     15000\n",
      "\n"
     ]
    }
   ],
   "source": [
    "tab4 = confusion_matrix(pred_lgbm, test_y)\n",
    "print(\"Confusion Matrix:\\n\",tab4)\n",
    "# evaluate predictions\n",
    "acc4 = (accuracy_score(test_y, pred_lgbm))*100\n",
    "print(\"\\nAccuracy: %.2f%%\\n\" % acc4)\n",
    "print(classification_report(test_y,pred_lgbm))"
   ]
  },
  {
   "cell_type": "markdown",
   "metadata": {},
   "source": [
    "## gradient boosting"
   ]
  },
  {
   "cell_type": "code",
   "execution_count": 360,
   "metadata": {},
   "outputs": [],
   "source": [
    "from sklearn.ensemble import GradientBoostingClassifier\n",
    "gbc = GradientBoostingClassifier()"
   ]
  },
  {
   "cell_type": "code",
   "execution_count": 361,
   "metadata": {},
   "outputs": [
    {
     "name": "stdout",
     "output_type": "stream",
     "text": [
      "Model Fitted\n"
     ]
    }
   ],
   "source": [
    "gbc.fit(train_x,train_y)\n",
    "print(\"Model Fitted\")"
   ]
  },
  {
   "cell_type": "code",
   "execution_count": 362,
   "metadata": {},
   "outputs": [],
   "source": [
    "pred_gbc = gbc.predict(test_x)"
   ]
  },
  {
   "cell_type": "code",
   "execution_count": 363,
   "metadata": {},
   "outputs": [],
   "source": [
    "tab5 = confusion_matrix(pred_gbc, test_y)"
   ]
  },
  {
   "cell_type": "code",
   "execution_count": 364,
   "metadata": {},
   "outputs": [
    {
     "name": "stdout",
     "output_type": "stream",
     "text": [
      "Confusion Matrix:\n",
      " [[4682 2141]\n",
      " [3397 4780]]\n",
      "\n",
      "Accuracy: 63.08%\n",
      "\n",
      "              precision    recall  f1-score   support\n",
      "\n",
      "           0       0.69      0.58      0.63      8079\n",
      "           1       0.58      0.69      0.63      6921\n",
      "\n",
      "    accuracy                           0.63     15000\n",
      "   macro avg       0.64      0.64      0.63     15000\n",
      "weighted avg       0.64      0.63      0.63     15000\n",
      "\n"
     ]
    }
   ],
   "source": [
    "print(\"Confusion Matrix:\\n\",tab5)\n",
    "# evaluate predictions\n",
    "acc5 = (accuracy_score(test_y, pred_gbc))*100\n",
    "print(\"\\nAccuracy: %.2f%%\\n\" % acc5)\n",
    "print(classification_report(test_y,pred_gbc))"
   ]
  },
  {
   "cell_type": "markdown",
   "metadata": {},
   "source": [
    "## KNN"
   ]
  },
  {
   "cell_type": "code",
   "execution_count": 365,
   "metadata": {},
   "outputs": [],
   "source": [
    "from sklearn.neighbors import KNeighborsClassifier\n",
    "knn = KNeighborsClassifier(n_neighbors=35)"
   ]
  },
  {
   "cell_type": "code",
   "execution_count": 366,
   "metadata": {},
   "outputs": [
    {
     "name": "stdout",
     "output_type": "stream",
     "text": [
      "Model Fitted\n"
     ]
    }
   ],
   "source": [
    "knn.fit(train_x,train_y)\n",
    "print(\"Model Fitted\")"
   ]
  },
  {
   "cell_type": "code",
   "execution_count": 367,
   "metadata": {},
   "outputs": [],
   "source": [
    "pred_knn = knn.predict(test_x)"
   ]
  },
  {
   "cell_type": "code",
   "execution_count": 368,
   "metadata": {},
   "outputs": [],
   "source": [
    "tab6 = confusion_matrix(pred_knn, test_y)"
   ]
  },
  {
   "cell_type": "code",
   "execution_count": 369,
   "metadata": {},
   "outputs": [
    {
     "name": "stdout",
     "output_type": "stream",
     "text": [
      "Confusion Matrix:\n",
      " [[5549 3995]\n",
      " [2530 2926]]\n",
      "\n",
      "Accuracy: 56.50%\n",
      "\n",
      "              precision    recall  f1-score   support\n",
      "\n",
      "           0       0.58      0.69      0.63      8079\n",
      "           1       0.54      0.42      0.47      6921\n",
      "\n",
      "    accuracy                           0.56     15000\n",
      "   macro avg       0.56      0.55      0.55     15000\n",
      "weighted avg       0.56      0.56      0.56     15000\n",
      "\n"
     ]
    }
   ],
   "source": [
    "print(\"Confusion Matrix:\\n\",tab6)\n",
    "# evaluate predictions\n",
    "acc6 = (accuracy_score(test_y, pred_knn))*100\n",
    "print(\"\\nAccuracy: %.2f%%\\n\" % acc6)\n",
    "print(classification_report(test_y,pred_knn))"
   ]
  },
  {
   "cell_type": "code",
   "execution_count": 370,
   "metadata": {},
   "outputs": [
    {
     "data": {
      "text/html": [
       "<div>\n",
       "<style scoped>\n",
       "    .dataframe tbody tr th:only-of-type {\n",
       "        vertical-align: middle;\n",
       "    }\n",
       "\n",
       "    .dataframe tbody tr th {\n",
       "        vertical-align: top;\n",
       "    }\n",
       "\n",
       "    .dataframe thead th {\n",
       "        text-align: right;\n",
       "    }\n",
       "</style>\n",
       "<table border=\"1\" class=\"dataframe\">\n",
       "  <thead>\n",
       "    <tr style=\"text-align: right;\">\n",
       "      <th></th>\n",
       "      <th>Techniques</th>\n",
       "      <th>Accuracy</th>\n",
       "    </tr>\n",
       "  </thead>\n",
       "  <tbody>\n",
       "    <tr>\n",
       "      <th>2</th>\n",
       "      <td>XGBoosting</td>\n",
       "      <td>64.886667</td>\n",
       "    </tr>\n",
       "    <tr>\n",
       "      <th>3</th>\n",
       "      <td>LightGradientBoosting</td>\n",
       "      <td>64.253333</td>\n",
       "    </tr>\n",
       "    <tr>\n",
       "      <th>1</th>\n",
       "      <td>RandForestClassifier</td>\n",
       "      <td>63.413333</td>\n",
       "    </tr>\n",
       "    <tr>\n",
       "      <th>4</th>\n",
       "      <td>GradientBoosting</td>\n",
       "      <td>63.080000</td>\n",
       "    </tr>\n",
       "    <tr>\n",
       "      <th>0</th>\n",
       "      <td>Logistic Regressio</td>\n",
       "      <td>56.520000</td>\n",
       "    </tr>\n",
       "    <tr>\n",
       "      <th>5</th>\n",
       "      <td>Knn</td>\n",
       "      <td>56.500000</td>\n",
       "    </tr>\n",
       "  </tbody>\n",
       "</table>\n",
       "</div>"
      ],
      "text/plain": [
       "              Techniques   Accuracy\n",
       "2             XGBoosting  64.886667\n",
       "3  LightGradientBoosting  64.253333\n",
       "1   RandForestClassifier  63.413333\n",
       "4       GradientBoosting  63.080000\n",
       "0     Logistic Regressio  56.520000\n",
       "5                    Knn  56.500000"
      ]
     },
     "execution_count": 370,
     "metadata": {},
     "output_type": "execute_result"
    }
   ],
   "source": [
    "list1 = ['Logistic Regressio','RandForestClassifier','XGBoosting','LightGradientBoosting','GradientBoosting','Knn']\n",
    "list2= [acc1,acc2,acc3,acc4,acc5,acc6]\n",
    "accu = pd.DataFrame({\"Techniques\":list1,\"Accuracy\":list2})\n",
    "accu.sort_values(\"Accuracy\",ascending = False)"
   ]
  },
  {
   "cell_type": "markdown",
   "metadata": {},
   "source": [
    "## Feature selection"
   ]
  },
  {
   "cell_type": "code",
   "execution_count": 371,
   "metadata": {},
   "outputs": [
    {
     "data": {
      "text/plain": [
       "(75000, 12)"
      ]
     },
     "execution_count": 371,
     "metadata": {},
     "output_type": "execute_result"
    }
   ],
   "source": [
    "train.shape"
   ]
  },
  {
   "cell_type": "code",
   "execution_count": 372,
   "metadata": {},
   "outputs": [],
   "source": [
    "from sklearn.feature_selection import VarianceThreshold\n",
    "from sklearn.feature_selection import SelectFromModel\n",
    "from sklearn.feature_selection import SelectKBest\n",
    "from sklearn.feature_selection import chi2"
   ]
  },
  {
   "cell_type": "code",
   "execution_count": 373,
   "metadata": {},
   "outputs": [],
   "source": [
    "from sklearn.feature_selection import RFE"
   ]
  },
  {
   "cell_type": "code",
   "execution_count": 374,
   "metadata": {},
   "outputs": [],
   "source": [
    "rfe_gb = RFE(model,9)"
   ]
  },
  {
   "cell_type": "code",
   "execution_count": 375,
   "metadata": {},
   "outputs": [
    {
     "name": "stdout",
     "output_type": "stream",
     "text": [
      "Model Fitted Successfully!!!\n"
     ]
    }
   ],
   "source": [
    "rfe_gb.fit(X,Y)\n",
    "print(\"Model Fitted Successfully!!!\")"
   ]
  },
  {
   "cell_type": "code",
   "execution_count": 376,
   "metadata": {},
   "outputs": [
    {
     "data": {
      "text/html": [
       "<div>\n",
       "<style scoped>\n",
       "    .dataframe tbody tr th:only-of-type {\n",
       "        vertical-align: middle;\n",
       "    }\n",
       "\n",
       "    .dataframe tbody tr th {\n",
       "        vertical-align: top;\n",
       "    }\n",
       "\n",
       "    .dataframe thead th {\n",
       "        text-align: right;\n",
       "    }\n",
       "</style>\n",
       "<table border=\"1\" class=\"dataframe\">\n",
       "  <thead>\n",
       "    <tr style=\"text-align: right;\">\n",
       "      <th></th>\n",
       "      <th>feature</th>\n",
       "      <th>Importance</th>\n",
       "    </tr>\n",
       "  </thead>\n",
       "  <tbody>\n",
       "    <tr>\n",
       "      <th>0</th>\n",
       "      <td>Size</td>\n",
       "      <td>True</td>\n",
       "    </tr>\n",
       "    <tr>\n",
       "      <th>1</th>\n",
       "      <td>Color_Code</td>\n",
       "      <td>True</td>\n",
       "    </tr>\n",
       "    <tr>\n",
       "      <th>2</th>\n",
       "      <td>Product_Category_Reference</td>\n",
       "      <td>True</td>\n",
       "    </tr>\n",
       "    <tr>\n",
       "      <th>3</th>\n",
       "      <td>Cost_to_Customer(USD)</td>\n",
       "      <td>True</td>\n",
       "    </tr>\n",
       "    <tr>\n",
       "      <th>5</th>\n",
       "      <td>Gender</td>\n",
       "      <td>True</td>\n",
       "    </tr>\n",
       "    <tr>\n",
       "      <th>6</th>\n",
       "      <td>or_Month</td>\n",
       "      <td>True</td>\n",
       "    </tr>\n",
       "    <tr>\n",
       "      <th>7</th>\n",
       "      <td>or_Day</td>\n",
       "      <td>True</td>\n",
       "    </tr>\n",
       "    <tr>\n",
       "      <th>8</th>\n",
       "      <td>del_Month</td>\n",
       "      <td>True</td>\n",
       "    </tr>\n",
       "    <tr>\n",
       "      <th>9</th>\n",
       "      <td>del_Day</td>\n",
       "      <td>True</td>\n",
       "    </tr>\n",
       "    <tr>\n",
       "      <th>4</th>\n",
       "      <td>Customer_ID</td>\n",
       "      <td>False</td>\n",
       "    </tr>\n",
       "  </tbody>\n",
       "</table>\n",
       "</div>"
      ],
      "text/plain": [
       "                      feature  Importance\n",
       "0                        Size        True\n",
       "1                  Color_Code        True\n",
       "2  Product_Category_Reference        True\n",
       "3       Cost_to_Customer(USD)        True\n",
       "5                      Gender        True\n",
       "6                    or_Month        True\n",
       "7                      or_Day        True\n",
       "8                   del_Month        True\n",
       "9                     del_Day        True\n",
       "4                 Customer_ID       False"
      ]
     },
     "execution_count": 376,
     "metadata": {},
     "output_type": "execute_result"
    }
   ],
   "source": [
    "feature_importance = pd.DataFrame({\"feature\":(X.columns),\"Importance\":(rfe_gb.support_)})\n",
    "\n",
    "feature_importance.sort_values(\"Importance\", ascending = False)"
   ]
  },
  {
   "cell_type": "code",
   "execution_count": null,
   "metadata": {},
   "outputs": [],
   "source": []
  },
  {
   "cell_type": "markdown",
   "metadata": {},
   "source": [
    "# test data"
   ]
  },
  {
   "cell_type": "code",
   "execution_count": 377,
   "metadata": {},
   "outputs": [],
   "source": [
    "test = pd.read_csv(r\"D:\\Hack\\HACK2\\test_fashion1.csv\")"
   ]
  },
  {
   "cell_type": "code",
   "execution_count": 378,
   "metadata": {},
   "outputs": [
    {
     "data": {
      "text/html": [
       "<div>\n",
       "<style scoped>\n",
       "    .dataframe tbody tr th:only-of-type {\n",
       "        vertical-align: middle;\n",
       "    }\n",
       "\n",
       "    .dataframe tbody tr th {\n",
       "        vertical-align: top;\n",
       "    }\n",
       "\n",
       "    .dataframe thead th {\n",
       "        text-align: right;\n",
       "    }\n",
       "</style>\n",
       "<table border=\"1\" class=\"dataframe\">\n",
       "  <thead>\n",
       "    <tr style=\"text-align: right;\">\n",
       "      <th></th>\n",
       "      <th>Order_Ref_Number</th>\n",
       "      <th>Order_Placed_AT</th>\n",
       "      <th>Order_Delivered_Date</th>\n",
       "      <th>Product_Ref_ID</th>\n",
       "      <th>Size</th>\n",
       "      <th>Color_Code</th>\n",
       "      <th>Product_Category_Reference</th>\n",
       "      <th>Cost_to_Customer(USD)</th>\n",
       "      <th>Customer_ID</th>\n",
       "      <th>Gender</th>\n",
       "      <th>Customer_BirthDate</th>\n",
       "      <th>Customer_Location</th>\n",
       "      <th>Customer_Joining_Date</th>\n",
       "    </tr>\n",
       "  </thead>\n",
       "  <tbody>\n",
       "    <tr>\n",
       "      <th>0</th>\n",
       "      <td>75722</td>\n",
       "      <td>20-08-2016</td>\n",
       "      <td>23-08-2016</td>\n",
       "      <td>1745</td>\n",
       "      <td>13</td>\n",
       "      <td>blue</td>\n",
       "      <td>64</td>\n",
       "      <td>75.0</td>\n",
       "      <td>43916</td>\n",
       "      <td>Mrs</td>\n",
       "      <td>31-01-1975</td>\n",
       "      <td>Bavaria</td>\n",
       "      <td>21-08-2016</td>\n",
       "    </tr>\n",
       "    <tr>\n",
       "      <th>1</th>\n",
       "      <td>80185</td>\n",
       "      <td>24-08-2016</td>\n",
       "      <td>28-08-2016</td>\n",
       "      <td>1806</td>\n",
       "      <td>unsized</td>\n",
       "      <td>black</td>\n",
       "      <td>110</td>\n",
       "      <td>16.9</td>\n",
       "      <td>44684</td>\n",
       "      <td>Mrs</td>\n",
       "      <td>10-12-1969</td>\n",
       "      <td>Bavaria</td>\n",
       "      <td>17-02-2015</td>\n",
       "    </tr>\n",
       "    <tr>\n",
       "      <th>2</th>\n",
       "      <td>19865</td>\n",
       "      <td>30-06-2016</td>\n",
       "      <td>02-08-2016</td>\n",
       "      <td>22</td>\n",
       "      <td>l</td>\n",
       "      <td>green</td>\n",
       "      <td>14</td>\n",
       "      <td>19.9</td>\n",
       "      <td>34106</td>\n",
       "      <td>Mrs</td>\n",
       "      <td>18-01-1968</td>\n",
       "      <td>Thuringia</td>\n",
       "      <td>17-02-2015</td>\n",
       "    </tr>\n",
       "    <tr>\n",
       "      <th>3</th>\n",
       "      <td>76700</td>\n",
       "      <td>21-08-2016</td>\n",
       "      <td>24-08-2016</td>\n",
       "      <td>1683</td>\n",
       "      <td>l</td>\n",
       "      <td>blue</td>\n",
       "      <td>97</td>\n",
       "      <td>39.9</td>\n",
       "      <td>34160</td>\n",
       "      <td>Mrs</td>\n",
       "      <td>31-03-1961</td>\n",
       "      <td>Hesse</td>\n",
       "      <td>03-03-2016</td>\n",
       "    </tr>\n",
       "    <tr>\n",
       "      <th>4</th>\n",
       "      <td>92992</td>\n",
       "      <td>04-09-2016</td>\n",
       "      <td>06-09-2016</td>\n",
       "      <td>1500</td>\n",
       "      <td>l</td>\n",
       "      <td>petrol</td>\n",
       "      <td>11</td>\n",
       "      <td>69.9</td>\n",
       "      <td>11929</td>\n",
       "      <td>Mrs</td>\n",
       "      <td>02-06-1962</td>\n",
       "      <td>Baden-Wuerttemberg</td>\n",
       "      <td>23-04-2016</td>\n",
       "    </tr>\n",
       "  </tbody>\n",
       "</table>\n",
       "</div>"
      ],
      "text/plain": [
       "   Order_Ref_Number Order_Placed_AT Order_Delivered_Date  Product_Ref_ID  \\\n",
       "0             75722      20-08-2016           23-08-2016            1745   \n",
       "1             80185      24-08-2016           28-08-2016            1806   \n",
       "2             19865      30-06-2016           02-08-2016              22   \n",
       "3             76700      21-08-2016           24-08-2016            1683   \n",
       "4             92992      04-09-2016           06-09-2016            1500   \n",
       "\n",
       "      Size Color_Code  Product_Category_Reference  Cost_to_Customer(USD)  \\\n",
       "0       13       blue                          64                   75.0   \n",
       "1  unsized      black                         110                   16.9   \n",
       "2        l      green                          14                   19.9   \n",
       "3        l       blue                          97                   39.9   \n",
       "4        l     petrol                          11                   69.9   \n",
       "\n",
       "   Customer_ID Gender Customer_BirthDate   Customer_Location  \\\n",
       "0        43916    Mrs         31-01-1975             Bavaria   \n",
       "1        44684    Mrs         10-12-1969             Bavaria   \n",
       "2        34106    Mrs         18-01-1968           Thuringia   \n",
       "3        34160    Mrs         31-03-1961               Hesse   \n",
       "4        11929    Mrs         02-06-1962  Baden-Wuerttemberg   \n",
       "\n",
       "  Customer_Joining_Date  \n",
       "0            21-08-2016  \n",
       "1            17-02-2015  \n",
       "2            17-02-2015  \n",
       "3            03-03-2016  \n",
       "4            23-04-2016  "
      ]
     },
     "execution_count": 378,
     "metadata": {},
     "output_type": "execute_result"
    }
   ],
   "source": [
    "test.head()"
   ]
  },
  {
   "cell_type": "code",
   "execution_count": 379,
   "metadata": {},
   "outputs": [
    {
     "data": {
      "text/plain": [
       "(25000, 13)"
      ]
     },
     "execution_count": 379,
     "metadata": {},
     "output_type": "execute_result"
    }
   ],
   "source": [
    "test.shape"
   ]
  },
  {
   "cell_type": "code",
   "execution_count": 380,
   "metadata": {},
   "outputs": [],
   "source": [
    "test.Color_Code=test.Color_Code.replace({'?':\"black\"})"
   ]
  },
  {
   "cell_type": "code",
   "execution_count": 381,
   "metadata": {},
   "outputs": [
    {
     "data": {
      "text/plain": [
       "Mrs    23815\n",
       "Mr      1185\n",
       "Name: Gender, dtype: int64"
      ]
     },
     "execution_count": 381,
     "metadata": {},
     "output_type": "execute_result"
    }
   ],
   "source": [
    "test.Gender.replace({\"Family\":\"Mr\"}, inplace=True)\n",
    "test.Gender.replace({\"Company\":\"Mr\"}, inplace=True)\n",
    "test.Gender.replace({\"not reported\":\"Mr\"},inplace = True)\n",
    "test.Gender.value_counts()"
   ]
  },
  {
   "cell_type": "code",
   "execution_count": 382,
   "metadata": {},
   "outputs": [],
   "source": [
    "test.Size = test.Size.str.replace(\"+\",\"\")"
   ]
  },
  {
   "cell_type": "code",
   "execution_count": 383,
   "metadata": {},
   "outputs": [],
   "source": [
    "test.Size = test.Size.replace({\"xs\":38})\n",
    "test.Size = test.Size.replace({\"s\":39})\n",
    "test.Size = test.Size.replace({\"m\":41})\n",
    "test.Size = test.Size.replace({\"l\":42})\n",
    "test.Size = test.Size.replace({\"xl\":44})\n",
    "test.Size = test.Size.replace({\"xxl\":46})\n",
    "test.Size = test.Size.replace({\"xxxl\":48})\n",
    "test.Size = test.Size.replace({\"unsized\":42})"
   ]
  },
  {
   "cell_type": "code",
   "execution_count": 384,
   "metadata": {},
   "outputs": [
    {
     "data": {
      "text/plain": [
       "0"
      ]
     },
     "execution_count": 384,
     "metadata": {},
     "output_type": "execute_result"
    }
   ],
   "source": [
    "test.Size.isnull().sum()"
   ]
  },
  {
   "cell_type": "code",
   "execution_count": 385,
   "metadata": {},
   "outputs": [],
   "source": [
    "test.Size = test.Size.astype(\"int\")"
   ]
  },
  {
   "cell_type": "code",
   "execution_count": 386,
   "metadata": {},
   "outputs": [],
   "source": [
    "test1  = test.drop({ \"Customer_Location\",\"Order_Ref_Number\", \"Product_Ref_ID\" , \"Customer_BirthDate\",\"Customer_Joining_Date\",\"Order_Placed_AT\" ,\"Order_Delivered_Date\"}, axis = 1)"
   ]
  },
  {
   "cell_type": "code",
   "execution_count": 387,
   "metadata": {},
   "outputs": [],
   "source": [
    "test1[\"or_Month\"] = pd.to_datetime(test[\"Order_Placed_AT\"]).dt.month\n",
    "\n",
    "test1[\"or_Day\"] = pd.to_datetime(test[\"Order_Placed_AT\"]).dt.day\n",
    "\n",
    "test1[\"del_Month\"] = pd.to_datetime(test[\"Order_Delivered_Date\"]).dt.month\n",
    "\n",
    "test1[\"del_Day\"] = pd.to_datetime(test[\"Order_Delivered_Date\"]).dt.day"
   ]
  },
  {
   "cell_type": "code",
   "execution_count": 388,
   "metadata": {},
   "outputs": [
    {
     "data": {
      "text/plain": [
       "(25000, 10)"
      ]
     },
     "execution_count": 388,
     "metadata": {},
     "output_type": "execute_result"
    }
   ],
   "source": [
    "test1.shape"
   ]
  },
  {
   "cell_type": "code",
   "execution_count": 389,
   "metadata": {},
   "outputs": [
    {
     "data": {
      "text/plain": [
       "Size                             0\n",
       "Color_Code                       0\n",
       "Product_Category_Reference       0\n",
       "Cost_to_Customer(USD)            0\n",
       "Customer_ID                      0\n",
       "Gender                           0\n",
       "or_Month                         0\n",
       "or_Day                           0\n",
       "del_Month                     2297\n",
       "del_Day                       2297\n",
       "dtype: int64"
      ]
     },
     "execution_count": 389,
     "metadata": {},
     "output_type": "execute_result"
    }
   ],
   "source": [
    "test1.isnull().sum()"
   ]
  },
  {
   "cell_type": "code",
   "execution_count": 390,
   "metadata": {},
   "outputs": [],
   "source": [
    "test1[\"del_Day\"] = test1[\"del_Day\"].fillna(train[\"del_Day\"].median())\n",
    "test1[\"del_Month\"] = test1[\"del_Month\"].fillna(train[\"del_Month\"].median())"
   ]
  },
  {
   "cell_type": "code",
   "execution_count": 408,
   "metadata": {},
   "outputs": [
    {
     "data": {
      "image/png": "[encoded data removed]",
      "text/plain": [
       "<Figure size 432x288 with 1 Axes>"
      ]
     },
     "metadata": {
      "needs_background": "light"
     },
     "output_type": "display_data"
    }
   ],
   "source": [
    "plt.boxplot(test1[\"Product_Category_Reference\"])\n",
    "plt.show()"
   ]
  },
  {
   "cell_type": "code",
   "execution_count": 392,
   "metadata": {},
   "outputs": [
    {
     "name": "stdout",
     "output_type": "stream",
     "text": [
      "3.0\n",
      "69.0\n"
     ]
    }
   ],
   "source": [
    "print(test1['Product_Category_Reference'].quantile(0.10))\n",
    "print(test1['Product_Category_Reference'].quantile(0.90))"
   ]
  },
  {
   "cell_type": "code",
   "execution_count": 393,
   "metadata": {},
   "outputs": [],
   "source": [
    "test1[\"Product_Category_Reference\"] = np.where(test1[\"Product_Category_Reference\"] <3.0, 3.0,test1[\"Product_Category_Reference\"])\n",
    "test1[\"Product_Category_Reference\"] = np.where(test1[\"Product_Category_Reference\"] >69.0, 69.0,test1[\"Product_Category_Reference\"])"
   ]
  },
  {
   "cell_type": "code",
   "execution_count": 407,
   "metadata": {},
   "outputs": [
    {
     "data": {
      "image/png": "[encoded data removed]",
      "text/plain": [
       "<Figure size 432x288 with 1 Axes>"
      ]
     },
     "metadata": {
      "needs_background": "light"
     },
     "output_type": "display_data"
    }
   ],
   "source": [
    "plt.boxplot(test1[\"Cost_to_Customer(USD)\"])\n",
    "plt.show()"
   ]
  },
  {
   "cell_type": "code",
   "execution_count": 395,
   "metadata": {},
   "outputs": [
    {
     "name": "stdout",
     "output_type": "stream",
     "text": [
      "19.9\n",
      "129.9\n"
     ]
    }
   ],
   "source": [
    "print(test1['Cost_to_Customer(USD)'].quantile(0.10))\n",
    "print(test1['Cost_to_Customer(USD)'].quantile(0.90))"
   ]
  },
  {
   "cell_type": "code",
   "execution_count": 396,
   "metadata": {},
   "outputs": [],
   "source": [
    "test1[\"Cost_to_Customer(USD)\"] = np.where(test1[\"Cost_to_Customer(USD)\"] <19.9, 19.9,test1[\"Cost_to_Customer(USD)\"])\n",
    "test1[\"Cost_to_Customer(USD)\"] = np.where(test1[\"Cost_to_Customer(USD)\"] >129.9, 129.9,test1[\"Cost_to_Customer(USD)\"])"
   ]
  },
  {
   "cell_type": "code",
   "execution_count": 406,
   "metadata": {},
   "outputs": [
    {
     "data": {
      "image/png": "[encoded data removed]",
      "text/plain": [
       "<Figure size 432x288 with 1 Axes>"
      ]
     },
     "metadata": {
      "needs_background": "light"
     },
     "output_type": "display_data"
    }
   ],
   "source": [
    "plt.boxplot(test1[\"Size\"])\n",
    "plt.show()"
   ]
  },
  {
   "cell_type": "code",
   "execution_count": 398,
   "metadata": {},
   "outputs": [
    {
     "name": "stdout",
     "output_type": "stream",
     "text": [
      "37.0\n",
      "46.0\n"
     ]
    }
   ],
   "source": [
    "print(test1['Size'].quantile(0.10))\n",
    "print(test1['Size'].quantile(0.90))"
   ]
  },
  {
   "cell_type": "code",
   "execution_count": 399,
   "metadata": {},
   "outputs": [],
   "source": [
    "test1[\"Size\"] = np.where(test1[\"Size\"] <37.0, 37.0,test1[\"Size\"])\n",
    "test1[\"Size\"] = np.where(test1[\"Size\"] >46.0, 46.0,test1[\"Size\"])"
   ]
  },
  {
   "cell_type": "code",
   "execution_count": 400,
   "metadata": {},
   "outputs": [
    {
     "data": {
      "text/plain": [
       "(25000, 10)"
      ]
     },
     "execution_count": 400,
     "metadata": {},
     "output_type": "execute_result"
    }
   ],
   "source": [
    "test1.shape"
   ]
  },
  {
   "cell_type": "code",
   "execution_count": 401,
   "metadata": {},
   "outputs": [],
   "source": [
    "test1[test1.select_dtypes(include= [\"object\"]).columns] =test1[test1.select_dtypes(include= [\"object\"]).columns].apply(le.fit_transform)\n"
   ]
  },
  {
   "cell_type": "code",
   "execution_count": 402,
   "metadata": {},
   "outputs": [
    {
     "data": {
      "text/html": [
       "<div>\n",
       "<style scoped>\n",
       "    .dataframe tbody tr th:only-of-type {\n",
       "        vertical-align: middle;\n",
       "    }\n",
       "\n",
       "    .dataframe tbody tr th {\n",
       "        vertical-align: top;\n",
       "    }\n",
       "\n",
       "    .dataframe thead th {\n",
       "        text-align: right;\n",
       "    }\n",
       "</style>\n",
       "<table border=\"1\" class=\"dataframe\">\n",
       "  <thead>\n",
       "    <tr style=\"text-align: right;\">\n",
       "      <th></th>\n",
       "      <th>Size</th>\n",
       "      <th>Color_Code</th>\n",
       "      <th>Product_Category_Reference</th>\n",
       "      <th>Cost_to_Customer(USD)</th>\n",
       "      <th>Customer_ID</th>\n",
       "      <th>Gender</th>\n",
       "      <th>or_Month</th>\n",
       "      <th>or_Day</th>\n",
       "      <th>del_Month</th>\n",
       "      <th>del_Day</th>\n",
       "    </tr>\n",
       "  </thead>\n",
       "  <tbody>\n",
       "    <tr>\n",
       "      <th>0</th>\n",
       "      <td>37.0</td>\n",
       "      <td>19</td>\n",
       "      <td>64.0</td>\n",
       "      <td>75.0</td>\n",
       "      <td>43916</td>\n",
       "      <td>1</td>\n",
       "      <td>8</td>\n",
       "      <td>20</td>\n",
       "      <td>8.0</td>\n",
       "      <td>23.0</td>\n",
       "    </tr>\n",
       "    <tr>\n",
       "      <th>1</th>\n",
       "      <td>42.0</td>\n",
       "      <td>17</td>\n",
       "      <td>69.0</td>\n",
       "      <td>19.9</td>\n",
       "      <td>44684</td>\n",
       "      <td>1</td>\n",
       "      <td>8</td>\n",
       "      <td>24</td>\n",
       "      <td>8.0</td>\n",
       "      <td>28.0</td>\n",
       "    </tr>\n",
       "    <tr>\n",
       "      <th>2</th>\n",
       "      <td>42.0</td>\n",
       "      <td>45</td>\n",
       "      <td>14.0</td>\n",
       "      <td>19.9</td>\n",
       "      <td>34106</td>\n",
       "      <td>1</td>\n",
       "      <td>6</td>\n",
       "      <td>30</td>\n",
       "      <td>2.0</td>\n",
       "      <td>8.0</td>\n",
       "    </tr>\n",
       "    <tr>\n",
       "      <th>3</th>\n",
       "      <td>42.0</td>\n",
       "      <td>19</td>\n",
       "      <td>69.0</td>\n",
       "      <td>39.9</td>\n",
       "      <td>34160</td>\n",
       "      <td>1</td>\n",
       "      <td>8</td>\n",
       "      <td>21</td>\n",
       "      <td>8.0</td>\n",
       "      <td>24.0</td>\n",
       "    </tr>\n",
       "    <tr>\n",
       "      <th>4</th>\n",
       "      <td>42.0</td>\n",
       "      <td>64</td>\n",
       "      <td>11.0</td>\n",
       "      <td>69.9</td>\n",
       "      <td>11929</td>\n",
       "      <td>1</td>\n",
       "      <td>4</td>\n",
       "      <td>9</td>\n",
       "      <td>6.0</td>\n",
       "      <td>9.0</td>\n",
       "    </tr>\n",
       "  </tbody>\n",
       "</table>\n",
       "</div>"
      ],
      "text/plain": [
       "   Size  Color_Code  Product_Category_Reference  Cost_to_Customer(USD)  \\\n",
       "0  37.0          19                        64.0                   75.0   \n",
       "1  42.0          17                        69.0                   19.9   \n",
       "2  42.0          45                        14.0                   19.9   \n",
       "3  42.0          19                        69.0                   39.9   \n",
       "4  42.0          64                        11.0                   69.9   \n",
       "\n",
       "   Customer_ID  Gender  or_Month  or_Day  del_Month  del_Day  \n",
       "0        43916       1         8      20        8.0     23.0  \n",
       "1        44684       1         8      24        8.0     28.0  \n",
       "2        34106       1         6      30        2.0      8.0  \n",
       "3        34160       1         8      21        8.0     24.0  \n",
       "4        11929       1         4       9        6.0      9.0  "
      ]
     },
     "execution_count": 402,
     "metadata": {},
     "output_type": "execute_result"
    }
   ],
   "source": [
    "test1.head()"
   ]
  },
  {
   "cell_type": "code",
   "execution_count": 403,
   "metadata": {},
   "outputs": [],
   "source": [
    "pred_value = xgb.predict(test1)"
   ]
  },
  {
   "cell_type": "code",
   "execution_count": 404,
   "metadata": {},
   "outputs": [],
   "source": [
    "sub = pd.DataFrame({\"Order_Ref_Number\":test.Order_Ref_Number , \"Order_Repeat_Chance\":pred_value})"
   ]
  },
  {
   "cell_type": "code",
   "execution_count": 405,
   "metadata": {},
   "outputs": [
    {
     "data": {
      "text/html": [
       "<div>\n",
       "<style scoped>\n",
       "    .dataframe tbody tr th:only-of-type {\n",
       "        vertical-align: middle;\n",
       "    }\n",
       "\n",
       "    .dataframe tbody tr th {\n",
       "        vertical-align: top;\n",
       "    }\n",
       "\n",
       "    .dataframe thead th {\n",
       "        text-align: right;\n",
       "    }\n",
       "</style>\n",
       "<table border=\"1\" class=\"dataframe\">\n",
       "  <thead>\n",
       "    <tr style=\"text-align: right;\">\n",
       "      <th></th>\n",
       "      <th>Order_Ref_Number</th>\n",
       "      <th>Order_Repeat_Chance</th>\n",
       "    </tr>\n",
       "  </thead>\n",
       "  <tbody>\n",
       "    <tr>\n",
       "      <th>0</th>\n",
       "      <td>75722</td>\n",
       "      <td>1</td>\n",
       "    </tr>\n",
       "    <tr>\n",
       "      <th>1</th>\n",
       "      <td>80185</td>\n",
       "      <td>0</td>\n",
       "    </tr>\n",
       "    <tr>\n",
       "      <th>2</th>\n",
       "      <td>19865</td>\n",
       "      <td>0</td>\n",
       "    </tr>\n",
       "    <tr>\n",
       "      <th>3</th>\n",
       "      <td>76700</td>\n",
       "      <td>0</td>\n",
       "    </tr>\n",
       "    <tr>\n",
       "      <th>4</th>\n",
       "      <td>92992</td>\n",
       "      <td>0</td>\n",
       "    </tr>\n",
       "  </tbody>\n",
       "</table>\n",
       "</div>"
      ],
      "text/plain": [
       "   Order_Ref_Number  Order_Repeat_Chance\n",
       "0             75722                    1\n",
       "1             80185                    0\n",
       "2             19865                    0\n",
       "3             76700                    0\n",
       "4             92992                    0"
      ]
     },
     "execution_count": 405,
     "metadata": {},
     "output_type": "execute_result"
    }
   ],
   "source": [
    "sub.head()"
   ]
  },
  {
   "cell_type": "code",
   "execution_count": 298,
   "metadata": {},
   "outputs": [],
   "source": [
    "sub.to_csv(r\"D:\\Hack\\hack2\\sub9.csv\" ,  index = False)"
   ]
  },
  {
   "cell_type": "code",
   "execution_count": null,
   "metadata": {},
   "outputs": [],
   "source": []
  }
 ],
 "metadata": {
  "kernelspec": {
   "display_name": "Python 3",
   "language": "python",
   "name": "python3"
  },
  "language_info": {
   "codemirror_mode": {
    "name": "ipython",
    "version": 3
   },
   "file_extension": ".py",
   "mimetype": "text/x-python",
   "name": "python",
   "nbconvert_exporter": "python",
   "pygments_lexer": "ipython3",
   "version": "3.8.5"
  }
 },
 "nbformat": 4,
 "nbformat_minor": 4
}
